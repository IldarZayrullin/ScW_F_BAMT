{
 "cells": [
  {
   "cell_type": "markdown",
   "id": "56ed4960",
   "metadata": {},
   "source": [
    "# Structure Learning"
   ]
  },
  {
   "cell_type": "markdown",
   "id": "4a03825f",
   "metadata": {},
   "source": [
    "## Import modules"
   ]
  },
  {
   "cell_type": "code",
   "execution_count": 1,
   "id": "d050ac20",
   "metadata": {},
   "outputs": [
    {
     "name": "stdout",
     "output_type": "stream",
     "text": [
      "Defaulting to user installation because normal site-packages is not writeable\n",
      "Requirement already satisfied: bamt==0.1.202 in /home/nmramorov/.local/lib/python3.10/site-packages (0.1.202)\n",
      "Requirement already satisfied: scipy<2.0.0,>=1.8.0 in /home/nmramorov/.local/lib/python3.10/site-packages (from bamt==0.1.202) (1.8.0)\n",
      "Requirement already satisfied: scikit-learn==1.0.2 in /home/nmramorov/.local/lib/python3.10/site-packages (from bamt==0.1.202) (1.0.2)\n",
      "Requirement already satisfied: numpy==1.22.2 in /usr/lib/python3.10/site-packages (from bamt==0.1.202) (1.22.2)\n",
      "Requirement already satisfied: pyvis<0.2.0,>=0.1.9 in /home/nmramorov/.local/lib/python3.10/site-packages (from bamt==0.1.202) (0.1.9)\n",
      "Requirement already satisfied: pomegranate==0.14.8 in /home/nmramorov/.local/lib/python3.10/site-packages (from bamt==0.1.202) (0.14.8)\n",
      "Requirement already satisfied: gmr==1.6.2 in /home/nmramorov/.local/lib/python3.10/site-packages (from bamt==0.1.202) (1.6.2)\n",
      "Requirement already satisfied: missingno<0.6.0,>=0.5.1 in /home/nmramorov/.local/lib/python3.10/site-packages (from bamt==0.1.202) (0.5.1)\n",
      "Requirement already satisfied: pandas==1.4.0 in /home/nmramorov/.local/lib/python3.10/site-packages (from bamt==0.1.202) (1.4.0)\n",
      "Requirement already satisfied: matplotlib==3.5.1 in /home/nmramorov/.local/lib/python3.10/site-packages (from bamt==0.1.202) (3.5.1)\n",
      "Requirement already satisfied: pillow>=6.2.0 in /usr/lib/python3.10/site-packages (from matplotlib==3.5.1->bamt==0.1.202) (9.0.1)\n",
      "Requirement already satisfied: cycler>=0.10 in /home/nmramorov/.local/lib/python3.10/site-packages (from matplotlib==3.5.1->bamt==0.1.202) (0.11.0)\n",
      "Requirement already satisfied: pyparsing>=2.2.1 in /usr/lib/python3.10/site-packages (from matplotlib==3.5.1->bamt==0.1.202) (3.0.0)\n",
      "Requirement already satisfied: packaging>=20.0 in /usr/lib/python3.10/site-packages (from matplotlib==3.5.1->bamt==0.1.202) (20.9)\n",
      "Requirement already satisfied: python-dateutil>=2.7 in /usr/lib/python3.10/site-packages (from matplotlib==3.5.1->bamt==0.1.202) (2.8.2)\n",
      "Requirement already satisfied: kiwisolver>=1.0.1 in /home/nmramorov/.local/lib/python3.10/site-packages (from matplotlib==3.5.1->bamt==0.1.202) (1.3.2)\n",
      "Requirement already satisfied: fonttools>=4.22.0 in /home/nmramorov/.local/lib/python3.10/site-packages (from matplotlib==3.5.1->bamt==0.1.202) (4.29.0)\n",
      "Requirement already satisfied: pytz>=2020.1 in /usr/lib/python3.10/site-packages (from pandas==1.4.0->bamt==0.1.202) (2021.3)\n",
      "Requirement already satisfied: joblib>=0.9.0b4 in /home/nmramorov/.local/lib/python3.10/site-packages (from pomegranate==0.14.8->bamt==0.1.202) (1.1.0)\n",
      "Requirement already satisfied: pyyaml in /usr/lib/python3.10/site-packages (from pomegranate==0.14.8->bamt==0.1.202) (6.0)\n",
      "Requirement already satisfied: networkx>=2.4 in /home/nmramorov/.local/lib/python3.10/site-packages (from pomegranate==0.14.8->bamt==0.1.202) (2.6.3)\n",
      "Requirement already satisfied: threadpoolctl>=2.0.0 in /home/nmramorov/.local/lib/python3.10/site-packages (from scikit-learn==1.0.2->bamt==0.1.202) (3.0.0)\n",
      "Requirement already satisfied: seaborn in /home/nmramorov/.local/lib/python3.10/site-packages (from missingno<0.6.0,>=0.5.1->bamt==0.1.202) (0.11.2)\n",
      "Requirement already satisfied: jinja2>=2.9.6 in /usr/lib/python3.10/site-packages (from pyvis<0.2.0,>=0.1.9->bamt==0.1.202) (3.0.3)\n",
      "Requirement already satisfied: ipython>=5.3.0 in /usr/lib/python3.10/site-packages (from pyvis<0.2.0,>=0.1.9->bamt==0.1.202) (8.1.0)\n",
      "Requirement already satisfied: jsonpickle>=1.4.1 in /home/nmramorov/.local/lib/python3.10/site-packages (from pyvis<0.2.0,>=0.1.9->bamt==0.1.202) (2.1.0)\n",
      "Requirement already satisfied: pygments>=2.4.0 in /usr/lib/python3.10/site-packages (from ipython>=5.3.0->pyvis<0.2.0,>=0.1.9->bamt==0.1.202) (2.11.2)\n",
      "Requirement already satisfied: backcall in /usr/lib/python3.10/site-packages (from ipython>=5.3.0->pyvis<0.2.0,>=0.1.9->bamt==0.1.202) (0.2.0)\n",
      "Requirement already satisfied: jedi>=0.16 in /usr/lib/python3.10/site-packages (from ipython>=5.3.0->pyvis<0.2.0,>=0.1.9->bamt==0.1.202) (0.18.1)\n",
      "Requirement already satisfied: prompt-toolkit!=3.0.0,!=3.0.1,<3.1.0,>=2.0.0 in /usr/lib/python3.10/site-packages (from ipython>=5.3.0->pyvis<0.2.0,>=0.1.9->bamt==0.1.202) (3.0.28)\n",
      "Requirement already satisfied: traitlets>=5 in /usr/lib/python3.10/site-packages (from ipython>=5.3.0->pyvis<0.2.0,>=0.1.9->bamt==0.1.202) (5.1.1)\n",
      "Requirement already satisfied: stack-data in /usr/lib/python3.10/site-packages (from ipython>=5.3.0->pyvis<0.2.0,>=0.1.9->bamt==0.1.202) (0.2.0)\n",
      "Requirement already satisfied: decorator in /usr/lib/python3.10/site-packages (from ipython>=5.3.0->pyvis<0.2.0,>=0.1.9->bamt==0.1.202) (5.1.1)\n",
      "Requirement already satisfied: setuptools>=18.5 in /usr/lib/python3.10/site-packages (from ipython>=5.3.0->pyvis<0.2.0,>=0.1.9->bamt==0.1.202) (59.3.0)\n",
      "Requirement already satisfied: pexpect>4.3 in /usr/lib/python3.10/site-packages (from ipython>=5.3.0->pyvis<0.2.0,>=0.1.9->bamt==0.1.202) (4.8.0)\n",
      "Requirement already satisfied: pickleshare in /usr/lib/python3.10/site-packages (from ipython>=5.3.0->pyvis<0.2.0,>=0.1.9->bamt==0.1.202) (0.7.5)\n",
      "Requirement already satisfied: matplotlib-inline in /usr/lib/python3.10/site-packages (from ipython>=5.3.0->pyvis<0.2.0,>=0.1.9->bamt==0.1.202) (0.1.3)\n",
      "Requirement already satisfied: MarkupSafe>=2.0 in /usr/lib/python3.10/site-packages (from jinja2>=2.9.6->pyvis<0.2.0,>=0.1.9->bamt==0.1.202) (2.0.1)\n",
      "Requirement already satisfied: six>=1.5 in /usr/lib/python3.10/site-packages (from python-dateutil>=2.7->matplotlib==3.5.1->bamt==0.1.202) (1.16.0)\n",
      "Requirement already satisfied: parso<0.9.0,>=0.8.0 in /usr/lib/python3.10/site-packages (from jedi>=0.16->ipython>=5.3.0->pyvis<0.2.0,>=0.1.9->bamt==0.1.202) (0.8.2)\n",
      "Requirement already satisfied: wcwidth in /usr/lib/python3.10/site-packages (from prompt-toolkit!=3.0.0,!=3.0.1,<3.1.0,>=2.0.0->ipython>=5.3.0->pyvis<0.2.0,>=0.1.9->bamt==0.1.202) (0.2.5)\n",
      "Requirement already satisfied: pure-eval in /usr/lib/python3.10/site-packages (from stack-data->ipython>=5.3.0->pyvis<0.2.0,>=0.1.9->bamt==0.1.202) (0.2.2)\n",
      "Requirement already satisfied: executing in /usr/lib/python3.10/site-packages (from stack-data->ipython>=5.3.0->pyvis<0.2.0,>=0.1.9->bamt==0.1.202) (0.8.2)\n",
      "Requirement already satisfied: asttokens in /usr/lib/python3.10/site-packages (from stack-data->ipython>=5.3.0->pyvis<0.2.0,>=0.1.9->bamt==0.1.202) (2.0.5)\n"
     ]
    }
   ],
   "source": [
    "!pip install bamt==0.1.202"
   ]
  },
  {
   "cell_type": "code",
   "execution_count": 2,
   "id": "49a7aca5",
   "metadata": {},
   "outputs": [
    {
     "name": "stderr",
     "output_type": "stream",
     "text": [
      "/home/nmramorov/.local/lib/python3.10/site-packages/statsmodels/compat/pandas.py:65: FutureWarning: pandas.Int64Index is deprecated and will be removed from pandas in a future version. Use pandas.Index with the appropriate dtype instead.\n",
      "  from pandas import Int64Index as NumericIndex\n"
     ]
    },
    {
     "name": "stdout",
     "output_type": "stream",
     "text": [
      "CPU times: user 2.03 s, sys: 770 ms, total: 2.8 s\n",
      "Wall time: 2.15 s\n"
     ]
    }
   ],
   "source": [
    "%%time\n",
    "%matplotlib inline\n",
    "import bamt.Networks as Nets\n",
    "import bamt.Preprocessors as pp\n",
    "\n",
    "import pandas as pd\n",
    "import numpy as np\n",
    "import matplotlib.pyplot as plt\n",
    "\n",
    "from sklearn import preprocessing\n",
    "from sklearn.metrics import accuracy_score, mean_squared_error\n",
    "from sklearn.ensemble import RandomForestClassifier\n",
    "from sklearn.neighbors import KNeighborsClassifier\n",
    "from sklearn.tree import DecisionTreeClassifier\n",
    "\n",
    "from pgmpy.estimators import K2Score"
   ]
  },
  {
   "cell_type": "markdown",
   "id": "d7c5159c",
   "metadata": {},
   "source": [
    "## Preprocessing"
   ]
  },
  {
   "cell_type": "code",
   "execution_count": 8,
   "id": "2bf54179",
   "metadata": {},
   "outputs": [],
   "source": [
    "hack = pd.read_csv(r'../data/hack_processed_with_rf.csv')"
   ]
  },
  {
   "cell_type": "code",
   "execution_count": 9,
   "id": "9d92e3ef",
   "metadata": {},
   "outputs": [],
   "source": [
    "cols = ['Tectonic regime', 'Period', 'Lithology', 'Structural setting', 'Gross','Netpay','Porosity','Permeability', 'Depth']\n",
    "hack = hack[cols]"
   ]
  },
  {
   "cell_type": "code",
   "execution_count": 10,
   "id": "9fa1fd46",
   "metadata": {},
   "outputs": [],
   "source": [
    "encoder = preprocessing.LabelEncoder()\n",
    "discretizer = preprocessing.KBinsDiscretizer(n_bins=5, encode='ordinal', strategy='quantile')\n",
    "\n",
    "p = pp.Preprocessor([('encoder', encoder), ('discretizer', discretizer)])\n",
    "discretized_data, est = p.apply(hack)"
   ]
  },
  {
   "cell_type": "markdown",
   "id": "c2b24921",
   "metadata": {},
   "source": [
    "## Initializing Bayessian Network"
   ]
  },
  {
   "cell_type": "markdown",
   "id": "5dc03911",
   "metadata": {},
   "source": [
    "<p> There are 3 type of Bayessian Networks - DiscreteBN, ContinuousBN, HybridBN. <br>\n",
    "Note that if you pass discrete data to Continoust BN, you get an error.<br><br>\n",
    "For ContinousBN user can choose whether use mixture nodes or not, for Hybrid user can restrict/allow using logit/mixture nodes.<p> "
   ]
  },
  {
   "cell_type": "code",
   "execution_count": 11,
   "id": "0d227a5b",
   "metadata": {},
   "outputs": [],
   "source": [
    "bn = Nets.HybridBN(has_logit=True, use_mixture=True) # init BN\n",
    "info = p.info # map for nodes (Dict[\"types\": Dict[node_name: type], \"signs\": Dict[node_name: sign]])"
   ]
  },
  {
   "cell_type": "code",
   "execution_count": 12,
   "id": "1050cc44",
   "metadata": {},
   "outputs": [],
   "source": [
    "from sklearn.tree import DecisionTreeClassifier\n",
    "bn.add_nodes(info)\n",
    "bn.add_edges(discretized_data, scoring_function=('MI',)) # use mutual information sf implemented in BAMT"
   ]
  },
  {
   "cell_type": "code",
   "execution_count": 13,
   "id": "febe125e",
   "metadata": {},
   "outputs": [
    {
     "data": {
      "text/html": [
       "<div>\n",
       "<style scoped>\n",
       "    .dataframe tbody tr th:only-of-type {\n",
       "        vertical-align: middle;\n",
       "    }\n",
       "\n",
       "    .dataframe tbody tr th {\n",
       "        vertical-align: top;\n",
       "    }\n",
       "\n",
       "    .dataframe thead th {\n",
       "        text-align: right;\n",
       "    }\n",
       "</style>\n",
       "<table border=\"1\" class=\"dataframe\">\n",
       "  <thead>\n",
       "    <tr style=\"text-align: right;\">\n",
       "      <th></th>\n",
       "      <th>name</th>\n",
       "      <th>node_type</th>\n",
       "      <th>data_type</th>\n",
       "      <th>parents</th>\n",
       "      <th>parents_types</th>\n",
       "    </tr>\n",
       "  </thead>\n",
       "  <tbody>\n",
       "    <tr>\n",
       "      <th>0</th>\n",
       "      <td>Tectonic regime</td>\n",
       "      <td>Discrete</td>\n",
       "      <td>disc</td>\n",
       "      <td>[]</td>\n",
       "      <td>[]</td>\n",
       "    </tr>\n",
       "    <tr>\n",
       "      <th>1</th>\n",
       "      <td>Period</td>\n",
       "      <td>ConditionalLogit (LogisticRegression)</td>\n",
       "      <td>disc</td>\n",
       "      <td>[Depth, Structural setting, Lithology]</td>\n",
       "      <td>[cont, disc, disc]</td>\n",
       "    </tr>\n",
       "    <tr>\n",
       "      <th>2</th>\n",
       "      <td>Lithology</td>\n",
       "      <td>ConditionalLogit (LogisticRegression)</td>\n",
       "      <td>disc</td>\n",
       "      <td>[Netpay, Structural setting]</td>\n",
       "      <td>[cont, disc]</td>\n",
       "    </tr>\n",
       "    <tr>\n",
       "      <th>3</th>\n",
       "      <td>Structural setting</td>\n",
       "      <td>Logit (LogisticRegression)</td>\n",
       "      <td>disc</td>\n",
       "      <td>[Permeability]</td>\n",
       "      <td>[cont]</td>\n",
       "    </tr>\n",
       "    <tr>\n",
       "      <th>4</th>\n",
       "      <td>Gross</td>\n",
       "      <td>MixtureGaussian</td>\n",
       "      <td>cont</td>\n",
       "      <td>[Porosity]</td>\n",
       "      <td>[cont]</td>\n",
       "    </tr>\n",
       "    <tr>\n",
       "      <th>5</th>\n",
       "      <td>Netpay</td>\n",
       "      <td>MixtureGaussian</td>\n",
       "      <td>cont</td>\n",
       "      <td>[Permeability]</td>\n",
       "      <td>[cont]</td>\n",
       "    </tr>\n",
       "    <tr>\n",
       "      <th>6</th>\n",
       "      <td>Porosity</td>\n",
       "      <td>ConditionalMixtureGaussian</td>\n",
       "      <td>cont</td>\n",
       "      <td>[Tectonic regime]</td>\n",
       "      <td>[disc]</td>\n",
       "    </tr>\n",
       "    <tr>\n",
       "      <th>7</th>\n",
       "      <td>Permeability</td>\n",
       "      <td>MixtureGaussian</td>\n",
       "      <td>cont</td>\n",
       "      <td>[Gross]</td>\n",
       "      <td>[cont]</td>\n",
       "    </tr>\n",
       "    <tr>\n",
       "      <th>8</th>\n",
       "      <td>Depth</td>\n",
       "      <td>MixtureGaussian</td>\n",
       "      <td>cont</td>\n",
       "      <td>[Gross]</td>\n",
       "      <td>[cont]</td>\n",
       "    </tr>\n",
       "  </tbody>\n",
       "</table>\n",
       "</div>"
      ],
      "text/plain": [
       "                 name                              node_type data_type  \\\n",
       "0     Tectonic regime                               Discrete      disc   \n",
       "1              Period  ConditionalLogit (LogisticRegression)      disc   \n",
       "2           Lithology  ConditionalLogit (LogisticRegression)      disc   \n",
       "3  Structural setting             Logit (LogisticRegression)      disc   \n",
       "4               Gross                        MixtureGaussian      cont   \n",
       "5              Netpay                        MixtureGaussian      cont   \n",
       "6            Porosity             ConditionalMixtureGaussian      cont   \n",
       "7        Permeability                        MixtureGaussian      cont   \n",
       "8               Depth                        MixtureGaussian      cont   \n",
       "\n",
       "                                  parents       parents_types  \n",
       "0                                      []                  []  \n",
       "1  [Depth, Structural setting, Lithology]  [cont, disc, disc]  \n",
       "2            [Netpay, Structural setting]        [cont, disc]  \n",
       "3                          [Permeability]              [cont]  \n",
       "4                              [Porosity]              [cont]  \n",
       "5                          [Permeability]              [cont]  \n",
       "6                       [Tectonic regime]              [disc]  \n",
       "7                                 [Gross]              [cont]  \n",
       "8                                 [Gross]              [cont]  "
      ]
     },
     "execution_count": 13,
     "metadata": {},
     "output_type": "execute_result"
    }
   ],
   "source": [
    "bn.get_info()"
   ]
  },
  {
   "cell_type": "code",
   "execution_count": 14,
   "id": "29010a77",
   "metadata": {},
   "outputs": [
    {
     "data": {
      "text/html": [
       "<div>\n",
       "<style scoped>\n",
       "    .dataframe tbody tr th:only-of-type {\n",
       "        vertical-align: middle;\n",
       "    }\n",
       "\n",
       "    .dataframe tbody tr th {\n",
       "        vertical-align: top;\n",
       "    }\n",
       "\n",
       "    .dataframe thead th {\n",
       "        text-align: right;\n",
       "    }\n",
       "</style>\n",
       "<table border=\"1\" class=\"dataframe\">\n",
       "  <thead>\n",
       "    <tr style=\"text-align: right;\">\n",
       "      <th></th>\n",
       "      <th>name</th>\n",
       "      <th>node_type</th>\n",
       "      <th>data_type</th>\n",
       "      <th>parents</th>\n",
       "      <th>parents_types</th>\n",
       "    </tr>\n",
       "  </thead>\n",
       "  <tbody>\n",
       "    <tr>\n",
       "      <th>0</th>\n",
       "      <td>Tectonic regime</td>\n",
       "      <td>Discrete</td>\n",
       "      <td>disc</td>\n",
       "      <td>[]</td>\n",
       "      <td>[]</td>\n",
       "    </tr>\n",
       "    <tr>\n",
       "      <th>1</th>\n",
       "      <td>Period</td>\n",
       "      <td>ConditionalLogit (LogisticRegression)</td>\n",
       "      <td>disc</td>\n",
       "      <td>[Depth, Structural setting, Lithology]</td>\n",
       "      <td>[cont, disc, disc]</td>\n",
       "    </tr>\n",
       "    <tr>\n",
       "      <th>2</th>\n",
       "      <td>Lithology</td>\n",
       "      <td>ConditionalLogit (LogisticRegression)</td>\n",
       "      <td>disc</td>\n",
       "      <td>[Netpay, Structural setting]</td>\n",
       "      <td>[cont, disc]</td>\n",
       "    </tr>\n",
       "    <tr>\n",
       "      <th>3</th>\n",
       "      <td>Structural setting</td>\n",
       "      <td>Logit (DecisionTreeClassifier)</td>\n",
       "      <td>disc</td>\n",
       "      <td>[Permeability]</td>\n",
       "      <td>[cont]</td>\n",
       "    </tr>\n",
       "    <tr>\n",
       "      <th>4</th>\n",
       "      <td>Gross</td>\n",
       "      <td>MixtureGaussian</td>\n",
       "      <td>cont</td>\n",
       "      <td>[Porosity]</td>\n",
       "      <td>[cont]</td>\n",
       "    </tr>\n",
       "    <tr>\n",
       "      <th>5</th>\n",
       "      <td>Netpay</td>\n",
       "      <td>MixtureGaussian</td>\n",
       "      <td>cont</td>\n",
       "      <td>[Permeability]</td>\n",
       "      <td>[cont]</td>\n",
       "    </tr>\n",
       "    <tr>\n",
       "      <th>6</th>\n",
       "      <td>Porosity</td>\n",
       "      <td>ConditionalMixtureGaussian</td>\n",
       "      <td>cont</td>\n",
       "      <td>[Tectonic regime]</td>\n",
       "      <td>[disc]</td>\n",
       "    </tr>\n",
       "    <tr>\n",
       "      <th>7</th>\n",
       "      <td>Permeability</td>\n",
       "      <td>MixtureGaussian</td>\n",
       "      <td>cont</td>\n",
       "      <td>[Gross]</td>\n",
       "      <td>[cont]</td>\n",
       "    </tr>\n",
       "    <tr>\n",
       "      <th>8</th>\n",
       "      <td>Depth</td>\n",
       "      <td>MixtureGaussian</td>\n",
       "      <td>cont</td>\n",
       "      <td>[Gross]</td>\n",
       "      <td>[cont]</td>\n",
       "    </tr>\n",
       "  </tbody>\n",
       "</table>\n",
       "</div>"
      ],
      "text/plain": [
       "                 name                              node_type data_type  \\\n",
       "0     Tectonic regime                               Discrete      disc   \n",
       "1              Period  ConditionalLogit (LogisticRegression)      disc   \n",
       "2           Lithology  ConditionalLogit (LogisticRegression)      disc   \n",
       "3  Structural setting         Logit (DecisionTreeClassifier)      disc   \n",
       "4               Gross                        MixtureGaussian      cont   \n",
       "5              Netpay                        MixtureGaussian      cont   \n",
       "6            Porosity             ConditionalMixtureGaussian      cont   \n",
       "7        Permeability                        MixtureGaussian      cont   \n",
       "8               Depth                        MixtureGaussian      cont   \n",
       "\n",
       "                                  parents       parents_types  \n",
       "0                                      []                  []  \n",
       "1  [Depth, Structural setting, Lithology]  [cont, disc, disc]  \n",
       "2            [Netpay, Structural setting]        [cont, disc]  \n",
       "3                          [Permeability]              [cont]  \n",
       "4                              [Porosity]              [cont]  \n",
       "5                          [Permeability]              [cont]  \n",
       "6                       [Tectonic regime]              [disc]  \n",
       "7                                 [Gross]              [cont]  \n",
       "8                                 [Gross]              [cont]  "
      ]
     },
     "execution_count": 14,
     "metadata": {},
     "output_type": "execute_result"
    }
   ],
   "source": [
    "bn.set_classifiers(classifiers={'Structural setting': DecisionTreeClassifier()})\n",
    "bn.get_info()"
   ]
  },
  {
   "cell_type": "code",
   "execution_count": 15,
   "id": "b4a2b8df",
   "metadata": {},
   "outputs": [
    {
     "name": "stdout",
     "output_type": "stream",
     "text": [
      "2022-03-04 01:55:21,339 | ERROR    | Networks.py-plot-0342 | This version allows only html format.\n"
     ]
    }
   ],
   "source": [
    "bn.plot('Test1')"
   ]
  },
  {
   "cell_type": "code",
   "execution_count": 16,
   "id": "568118ae",
   "metadata": {},
   "outputs": [
    {
     "data": {
      "text/html": [
       "\n",
       "        <iframe\n",
       "            width=\"100%\"\n",
       "            height=\"800px\"\n",
       "            src=\"visualization_result/Simple.html\"\n",
       "            frameborder=\"0\"\n",
       "            allowfullscreen\n",
       "            \n",
       "        ></iframe>\n",
       "        "
      ],
      "text/plain": [
       "<IPython.lib.display.IFrame at 0x7f6ef77141f0>"
      ]
     },
     "execution_count": 16,
     "metadata": {},
     "output_type": "execute_result"
    }
   ],
   "source": [
    "# Now let's plot graph\n",
    "bn.plot('Simple.html')"
   ]
  },
  {
   "cell_type": "markdown",
   "id": "e6165aed",
   "metadata": {},
   "source": [
    "## Parameters in structure learning"
   ]
  },
  {
   "cell_type": "markdown",
   "id": "99c66cad",
   "metadata": {},
   "source": [
    "<p> There are 4 parameters user can tune: init_nodes, init_edges, white_list, remove_init_edges. <p>"
   ]
  },
  {
   "cell_type": "markdown",
   "id": "03e6e976",
   "metadata": {},
   "source": [
    "### Init_nodes"
   ]
  },
  {
   "cell_type": "markdown",
   "id": "ab0a27f5",
   "metadata": {},
   "source": [
    "This one defines root nodes (thus they haven't parents at all)."
   ]
  },
  {
   "cell_type": "code",
   "execution_count": 17,
   "id": "fd32ef4b",
   "metadata": {},
   "outputs": [
    {
     "name": "stdout",
     "output_type": "stream",
     "text": [
      "['Tectonic regime', 'Period', 'Lithology', 'Structural setting', 'Gross', 'Netpay', 'Porosity', 'Permeability', 'Depth']\n"
     ]
    }
   ],
   "source": [
    "print(bn.nodes_names) # bn.nodes: List[Nodes]"
   ]
  },
  {
   "cell_type": "code",
   "execution_count": 18,
   "id": "2741d343",
   "metadata": {},
   "outputs": [
    {
     "data": {
      "text/html": [
       "\n",
       "        <iframe\n",
       "            width=\"100%\"\n",
       "            height=\"800px\"\n",
       "            src=\"visualization_result/init_nodes.html\"\n",
       "            frameborder=\"0\"\n",
       "            allowfullscreen\n",
       "            \n",
       "        ></iframe>\n",
       "        "
      ],
      "text/plain": [
       "<IPython.lib.display.IFrame at 0x7f6ef755e500>"
      ]
     },
     "execution_count": 18,
     "metadata": {},
     "output_type": "execute_result"
    }
   ],
   "source": [
    "params = {'init_nodes': ['Tectonic regime', 'Period', 'Lithology', 'Structural setting', 'Gross']}\n",
    "bn.add_edges(discretized_data, scoring_function=('MI',), params=params)\n",
    "bn.plot('init_nodes.html')"
   ]
  },
  {
   "cell_type": "markdown",
   "id": "72ce1b12",
   "metadata": {},
   "source": [
    "### Init_edges"
   ]
  },
  {
   "cell_type": "markdown",
   "id": "79288532",
   "metadata": {},
   "source": [
    "<p> This one defines edges from which learning procedure starts <p>"
   ]
  },
  {
   "cell_type": "code",
   "execution_count": 19,
   "id": "127cc72b",
   "metadata": {},
   "outputs": [
    {
     "data": {
      "text/html": [
       "\n",
       "        <iframe\n",
       "            width=\"100%\"\n",
       "            height=\"800px\"\n",
       "            src=\"visualization_result/init_edges.html\"\n",
       "            frameborder=\"0\"\n",
       "            allowfullscreen\n",
       "            \n",
       "        ></iframe>\n",
       "        "
      ],
      "text/plain": [
       "<IPython.lib.display.IFrame at 0x7f6ef713e890>"
      ]
     },
     "execution_count": 19,
     "metadata": {},
     "output_type": "execute_result"
    }
   ],
   "source": [
    "params = {'init_nodes': ['Tectonic regime', 'Period', 'Lithology', 'Structural setting', 'Gross'],\n",
    "          'init_edges':[('Period', 'Permeability'), ('Structural setting', 'Netpay'), ('Gross', 'Permeability')],}\n",
    "bn.add_edges(discretized_data, scoring_function=('MI',), params=params)\n",
    "bn.plot('init_edges.html')"
   ]
  },
  {
   "cell_type": "markdown",
   "id": "33c0a131",
   "metadata": {},
   "source": [
    "### white_list"
   ]
  },
  {
   "cell_type": "markdown",
   "id": "a942b09e",
   "metadata": {},
   "source": [
    "Strictly set edges where algoritm must learn"
   ]
  },
  {
   "cell_type": "code",
   "execution_count": 20,
   "id": "f8bc1baf",
   "metadata": {},
   "outputs": [
    {
     "data": {
      "text/html": [
       "\n",
       "        <iframe\n",
       "            width=\"100%\"\n",
       "            height=\"800px\"\n",
       "            src=\"visualization_result/whihe_list.html\"\n",
       "            frameborder=\"0\"\n",
       "            allowfullscreen\n",
       "            \n",
       "        ></iframe>\n",
       "        "
      ],
      "text/plain": [
       "<IPython.lib.display.IFrame at 0x7f6ef7146e60>"
      ]
     },
     "execution_count": 20,
     "metadata": {},
     "output_type": "execute_result"
    }
   ],
   "source": [
    "params = {'init_nodes': ['Tectonic regime', 'Period', 'Lithology', 'Structural setting', 'Gross'],\n",
    "         'white_list': [('Period', 'Permeability'), ('Structural setting', 'Netpay'), ('Gross', 'Permeability')]}\n",
    "bn.add_edges(discretized_data, scoring_function=('MI',), params=params)\n",
    "bn.plot('whihe_list.html')"
   ]
  },
  {
   "cell_type": "markdown",
   "id": "c3bab99c",
   "metadata": {},
   "source": [
    "### Remove_init_edges"
   ]
  },
  {
   "cell_type": "markdown",
   "id": "b617844f",
   "metadata": {},
   "source": [
    "Allow algorithm to remove edges defined by user."
   ]
  },
  {
   "cell_type": "code",
   "execution_count": 21,
   "id": "046ab206",
   "metadata": {},
   "outputs": [
    {
     "data": {
      "text/html": [
       "\n",
       "        <iframe\n",
       "            width=\"100%\"\n",
       "            height=\"800px\"\n",
       "            src=\"visualization_result/remove_init.html\"\n",
       "            frameborder=\"0\"\n",
       "            allowfullscreen\n",
       "            \n",
       "        ></iframe>\n",
       "        "
      ],
      "text/plain": [
       "<IPython.lib.display.IFrame at 0x7f6ef713eaa0>"
      ]
     },
     "execution_count": 21,
     "metadata": {},
     "output_type": "execute_result"
    }
   ],
   "source": [
    "params = {'init_nodes': ['Tectonic regime', 'Period', 'Lithology', 'Structural setting', 'Gross'],\n",
    "          'init_edges':[('Period', 'Permeability'), ('Structural setting', 'Netpay'), ('Gross', 'Permeability')],\n",
    "         'remove_init_edges':True}\n",
    "bn.add_edges(discretized_data, scoring_function=('MI',), params=params)\n",
    "bn.plot('remove_init.html')"
   ]
  },
  {
   "cell_type": "markdown",
   "id": "061d80ba",
   "metadata": {},
   "source": [
    "## Parameters Learning"
   ]
  },
  {
   "cell_type": "markdown",
   "id": "8488bbfc",
   "metadata": {},
   "source": [
    "<p> The second stage of learning is related to parameters, user should call fit_parameters method. <br>\n",
    "    In this procedure each vertex calls its own parameters_learning method and write down an outcome into distributions in bayessian network object. <br><br>\n",
    "\n",
    "What is going on inside each type of vertex can be found in special notebook (\"Nodes.ipynb\") <p>"
   ]
  },
  {
   "cell_type": "markdown",
   "id": "55beafa6",
   "metadata": {},
   "source": [
    "### Sample() function"
   ]
  },
  {
   "cell_type": "code",
   "execution_count": 22,
   "id": "4b2c387e",
   "metadata": {},
   "outputs": [
    {
     "name": "stdout",
     "output_type": "stream",
     "text": [
      "2022-03-04 01:55:24,793 | ERROR    | Networks.py-sample-0221 | Parameter learning wasn't done. Call fit_parameters method\n"
     ]
    }
   ],
   "source": [
    "bn.sample(10) # no way to sample from parametrically unfitted network "
   ]
  },
  {
   "cell_type": "markdown",
   "id": "2a8b02e0",
   "metadata": {},
   "source": [
    "Let's train two networks and compare their results."
   ]
  },
  {
   "cell_type": "code",
   "execution_count": 23,
   "id": "f49267ee",
   "metadata": {},
   "outputs": [],
   "source": [
    "bn_1 = Nets.HybridBN(has_logit=True, use_mixture=False)\n",
    "d = p.info\n",
    "bn_1.add_nodes(d)"
   ]
  },
  {
   "cell_type": "code",
   "execution_count": 24,
   "id": "f0b3350d",
   "metadata": {},
   "outputs": [],
   "source": [
    "bn_2 = Nets.HybridBN(has_logit=True, use_mixture=False)\n",
    "d = p.info\n",
    "bn_2.add_nodes(d)"
   ]
  },
  {
   "cell_type": "code",
   "execution_count": 25,
   "id": "31448134",
   "metadata": {},
   "outputs": [
    {
     "data": {
      "application/vnd.jupyter.widget-view+json": {
       "model_id": "29a9f8eb04214799b2e02eda7beb5eed",
       "version_major": 2,
       "version_minor": 0
      },
      "text/plain": [
       "  0%|          | 0/1000000 [00:00<?, ?it/s]"
      ]
     },
     "metadata": {},
     "output_type": "display_data"
    }
   ],
   "source": [
    "bn_1.add_edges(discretized_data, scoring_function=('MI',))\n",
    "bn_1.set_classifiers(classifiers={'Structural setting': DecisionTreeClassifier(),\n",
    "                                 'Lithology': RandomForestClassifier(),\n",
    "                                 'Period': KNeighborsClassifier(n_neighbors=2)})\n",
    "\n",
    "bn_2.add_edges(discretized_data, scoring_function=('K2',K2Score))"
   ]
  },
  {
   "cell_type": "code",
   "execution_count": 26,
   "id": "e3bce9f6",
   "metadata": {},
   "outputs": [
    {
     "data": {
      "text/html": [
       "<div>\n",
       "<style scoped>\n",
       "    .dataframe tbody tr th:only-of-type {\n",
       "        vertical-align: middle;\n",
       "    }\n",
       "\n",
       "    .dataframe tbody tr th {\n",
       "        vertical-align: top;\n",
       "    }\n",
       "\n",
       "    .dataframe thead th {\n",
       "        text-align: right;\n",
       "    }\n",
       "</style>\n",
       "<table border=\"1\" class=\"dataframe\">\n",
       "  <thead>\n",
       "    <tr style=\"text-align: right;\">\n",
       "      <th></th>\n",
       "      <th>name</th>\n",
       "      <th>node_type</th>\n",
       "      <th>data_type</th>\n",
       "      <th>parents</th>\n",
       "      <th>parents_types</th>\n",
       "    </tr>\n",
       "  </thead>\n",
       "  <tbody>\n",
       "    <tr>\n",
       "      <th>0</th>\n",
       "      <td>Tectonic regime</td>\n",
       "      <td>Discrete</td>\n",
       "      <td>disc</td>\n",
       "      <td>[]</td>\n",
       "      <td>[]</td>\n",
       "    </tr>\n",
       "    <tr>\n",
       "      <th>1</th>\n",
       "      <td>Period</td>\n",
       "      <td>ConditionalLogit (KNeighborsClassifier)</td>\n",
       "      <td>disc</td>\n",
       "      <td>[Depth, Structural setting, Lithology]</td>\n",
       "      <td>[cont, disc, disc]</td>\n",
       "    </tr>\n",
       "    <tr>\n",
       "      <th>2</th>\n",
       "      <td>Lithology</td>\n",
       "      <td>ConditionalLogit (RandomForestClassifier)</td>\n",
       "      <td>disc</td>\n",
       "      <td>[Netpay, Structural setting]</td>\n",
       "      <td>[cont, disc]</td>\n",
       "    </tr>\n",
       "    <tr>\n",
       "      <th>3</th>\n",
       "      <td>Structural setting</td>\n",
       "      <td>Logit (DecisionTreeClassifier)</td>\n",
       "      <td>disc</td>\n",
       "      <td>[Permeability]</td>\n",
       "      <td>[cont]</td>\n",
       "    </tr>\n",
       "    <tr>\n",
       "      <th>4</th>\n",
       "      <td>Gross</td>\n",
       "      <td>Gaussian</td>\n",
       "      <td>cont</td>\n",
       "      <td>[Porosity]</td>\n",
       "      <td>[cont]</td>\n",
       "    </tr>\n",
       "    <tr>\n",
       "      <th>5</th>\n",
       "      <td>Netpay</td>\n",
       "      <td>Gaussian</td>\n",
       "      <td>cont</td>\n",
       "      <td>[Permeability]</td>\n",
       "      <td>[cont]</td>\n",
       "    </tr>\n",
       "    <tr>\n",
       "      <th>6</th>\n",
       "      <td>Porosity</td>\n",
       "      <td>ConditionalGaussian</td>\n",
       "      <td>cont</td>\n",
       "      <td>[Tectonic regime]</td>\n",
       "      <td>[disc]</td>\n",
       "    </tr>\n",
       "    <tr>\n",
       "      <th>7</th>\n",
       "      <td>Permeability</td>\n",
       "      <td>Gaussian</td>\n",
       "      <td>cont</td>\n",
       "      <td>[Gross]</td>\n",
       "      <td>[cont]</td>\n",
       "    </tr>\n",
       "    <tr>\n",
       "      <th>8</th>\n",
       "      <td>Depth</td>\n",
       "      <td>Gaussian</td>\n",
       "      <td>cont</td>\n",
       "      <td>[Gross]</td>\n",
       "      <td>[cont]</td>\n",
       "    </tr>\n",
       "  </tbody>\n",
       "</table>\n",
       "</div>"
      ],
      "text/plain": [
       "                 name                                  node_type data_type  \\\n",
       "0     Tectonic regime                                   Discrete      disc   \n",
       "1              Period    ConditionalLogit (KNeighborsClassifier)      disc   \n",
       "2           Lithology  ConditionalLogit (RandomForestClassifier)      disc   \n",
       "3  Structural setting             Logit (DecisionTreeClassifier)      disc   \n",
       "4               Gross                                   Gaussian      cont   \n",
       "5              Netpay                                   Gaussian      cont   \n",
       "6            Porosity                        ConditionalGaussian      cont   \n",
       "7        Permeability                                   Gaussian      cont   \n",
       "8               Depth                                   Gaussian      cont   \n",
       "\n",
       "                                  parents       parents_types  \n",
       "0                                      []                  []  \n",
       "1  [Depth, Structural setting, Lithology]  [cont, disc, disc]  \n",
       "2            [Netpay, Structural setting]        [cont, disc]  \n",
       "3                          [Permeability]              [cont]  \n",
       "4                              [Porosity]              [cont]  \n",
       "5                          [Permeability]              [cont]  \n",
       "6                       [Tectonic regime]              [disc]  \n",
       "7                                 [Gross]              [cont]  \n",
       "8                                 [Gross]              [cont]  "
      ]
     },
     "execution_count": 26,
     "metadata": {},
     "output_type": "execute_result"
    }
   ],
   "source": [
    "bn_1.get_info()"
   ]
  },
  {
   "cell_type": "code",
   "execution_count": 27,
   "id": "c8c241dd",
   "metadata": {},
   "outputs": [
    {
     "data": {
      "text/html": [
       "<div>\n",
       "<style scoped>\n",
       "    .dataframe tbody tr th:only-of-type {\n",
       "        vertical-align: middle;\n",
       "    }\n",
       "\n",
       "    .dataframe tbody tr th {\n",
       "        vertical-align: top;\n",
       "    }\n",
       "\n",
       "    .dataframe thead th {\n",
       "        text-align: right;\n",
       "    }\n",
       "</style>\n",
       "<table border=\"1\" class=\"dataframe\">\n",
       "  <thead>\n",
       "    <tr style=\"text-align: right;\">\n",
       "      <th></th>\n",
       "      <th>name</th>\n",
       "      <th>node_type</th>\n",
       "      <th>data_type</th>\n",
       "      <th>parents</th>\n",
       "      <th>parents_types</th>\n",
       "    </tr>\n",
       "  </thead>\n",
       "  <tbody>\n",
       "    <tr>\n",
       "      <th>0</th>\n",
       "      <td>Tectonic regime</td>\n",
       "      <td>Discrete</td>\n",
       "      <td>disc</td>\n",
       "      <td>[]</td>\n",
       "      <td>[]</td>\n",
       "    </tr>\n",
       "    <tr>\n",
       "      <th>1</th>\n",
       "      <td>Period</td>\n",
       "      <td>Discrete</td>\n",
       "      <td>disc</td>\n",
       "      <td>[Structural setting]</td>\n",
       "      <td>[disc]</td>\n",
       "    </tr>\n",
       "    <tr>\n",
       "      <th>2</th>\n",
       "      <td>Lithology</td>\n",
       "      <td>Discrete</td>\n",
       "      <td>disc</td>\n",
       "      <td>[]</td>\n",
       "      <td>[]</td>\n",
       "    </tr>\n",
       "    <tr>\n",
       "      <th>3</th>\n",
       "      <td>Structural setting</td>\n",
       "      <td>Discrete</td>\n",
       "      <td>disc</td>\n",
       "      <td>[Tectonic regime]</td>\n",
       "      <td>[disc]</td>\n",
       "    </tr>\n",
       "    <tr>\n",
       "      <th>4</th>\n",
       "      <td>Gross</td>\n",
       "      <td>ConditionalGaussian</td>\n",
       "      <td>cont</td>\n",
       "      <td>[Period, Lithology, Structural setting]</td>\n",
       "      <td>[disc, disc, disc]</td>\n",
       "    </tr>\n",
       "    <tr>\n",
       "      <th>5</th>\n",
       "      <td>Netpay</td>\n",
       "      <td>Gaussian</td>\n",
       "      <td>cont</td>\n",
       "      <td>[Gross]</td>\n",
       "      <td>[cont]</td>\n",
       "    </tr>\n",
       "    <tr>\n",
       "      <th>6</th>\n",
       "      <td>Porosity</td>\n",
       "      <td>ConditionalGaussian</td>\n",
       "      <td>cont</td>\n",
       "      <td>[Period]</td>\n",
       "      <td>[disc]</td>\n",
       "    </tr>\n",
       "    <tr>\n",
       "      <th>7</th>\n",
       "      <td>Permeability</td>\n",
       "      <td>ConditionalGaussian</td>\n",
       "      <td>cont</td>\n",
       "      <td>[Porosity, Lithology]</td>\n",
       "      <td>[cont, disc]</td>\n",
       "    </tr>\n",
       "    <tr>\n",
       "      <th>8</th>\n",
       "      <td>Depth</td>\n",
       "      <td>ConditionalGaussian</td>\n",
       "      <td>cont</td>\n",
       "      <td>[Porosity, Structural setting]</td>\n",
       "      <td>[cont, disc]</td>\n",
       "    </tr>\n",
       "  </tbody>\n",
       "</table>\n",
       "</div>"
      ],
      "text/plain": [
       "                 name            node_type data_type  \\\n",
       "0     Tectonic regime             Discrete      disc   \n",
       "1              Period             Discrete      disc   \n",
       "2           Lithology             Discrete      disc   \n",
       "3  Structural setting             Discrete      disc   \n",
       "4               Gross  ConditionalGaussian      cont   \n",
       "5              Netpay             Gaussian      cont   \n",
       "6            Porosity  ConditionalGaussian      cont   \n",
       "7        Permeability  ConditionalGaussian      cont   \n",
       "8               Depth  ConditionalGaussian      cont   \n",
       "\n",
       "                                   parents       parents_types  \n",
       "0                                       []                  []  \n",
       "1                     [Structural setting]              [disc]  \n",
       "2                                       []                  []  \n",
       "3                        [Tectonic regime]              [disc]  \n",
       "4  [Period, Lithology, Structural setting]  [disc, disc, disc]  \n",
       "5                                  [Gross]              [cont]  \n",
       "6                                 [Period]              [disc]  \n",
       "7                    [Porosity, Lithology]        [cont, disc]  \n",
       "8           [Porosity, Structural setting]        [cont, disc]  "
      ]
     },
     "execution_count": 27,
     "metadata": {},
     "output_type": "execute_result"
    }
   ],
   "source": [
    "bn_2.get_info()"
   ]
  },
  {
   "cell_type": "code",
   "execution_count": 28,
   "id": "51eb9696",
   "metadata": {},
   "outputs": [
    {
     "name": "stdout",
     "output_type": "stream",
     "text": [
      "2022-03-04 01:55:28,715 | WARNING  | Nodes.py-fit_parameters-0513 | Structural setting::Pickle failed. BAMT will use Joblib. | 'tuple' object is not callable\n",
      "2022-03-04 01:55:29,338 | WARNING  | Nodes.py-fit_parameters-0618 | Lithology ['FORELAND']::Pickle failed. BAMT will use Joblib. | invalid load key, '\\x00'.\n",
      "CPU times: user 1.99 s, sys: 19.6 ms, total: 2.01 s\n",
      "Wall time: 2.01 s\n"
     ]
    }
   ],
   "source": [
    "%%time\n",
    "bn_1.fit_parameters(hack)"
   ]
  },
  {
   "cell_type": "code",
   "execution_count": 29,
   "id": "c56eed93",
   "metadata": {},
   "outputs": [
    {
     "name": "stdout",
     "output_type": "stream",
     "text": [
      "CPU times: user 7.64 s, sys: 32 ms, total: 7.67 s\n",
      "Wall time: 7.8 s\n"
     ]
    }
   ],
   "source": [
    "%%time\n",
    "bn_2.fit_parameters(hack)"
   ]
  },
  {
   "cell_type": "code",
   "execution_count": 30,
   "id": "3f446fb2",
   "metadata": {},
   "outputs": [
    {
     "data": {
      "text/plain": [
       "True"
      ]
     },
     "execution_count": 30,
     "metadata": {},
     "output_type": "execute_result"
    }
   ],
   "source": [
    "bn_1.get_params_tree('out.json')"
   ]
  },
  {
   "cell_type": "code",
   "execution_count": 31,
   "id": "ce080874",
   "metadata": {},
   "outputs": [
    {
     "name": "stdout",
     "output_type": "stream",
     "text": [
      "CPU times: user 10.6 s, sys: 48.5 ms, total: 10.6 s\n",
      "Wall time: 10.8 s\n"
     ]
    }
   ],
   "source": [
    "%%time\n",
    "synth_data_mi = bn_1.sample(514, as_df=True)"
   ]
  },
  {
   "cell_type": "code",
   "execution_count": 32,
   "id": "33e4fe1e",
   "metadata": {},
   "outputs": [
    {
     "name": "stdout",
     "output_type": "stream",
     "text": [
      "CPU times: user 41.3 ms, sys: 16.7 ms, total: 58 ms\n",
      "Wall time: 57.4 ms\n"
     ]
    }
   ],
   "source": [
    "%%time\n",
    "synth_data_k2 = bn_2.sample(514, as_df=True)"
   ]
  },
  {
   "cell_type": "code",
   "execution_count": 33,
   "id": "af1bde59",
   "metadata": {
    "scrolled": true
   },
   "outputs": [
    {
     "data": {
      "image/png": "[encoded data removed]",
      "text/plain": [
       "<Figure size 864x576 with 3 Axes>"
      ]
     },
     "metadata": {
      "needs_background": "light"
     },
     "output_type": "display_data"
    },
    {
     "data": {
      "image/png": "[encoded data removed]",
      "text/plain": [
       "<Figure size 864x576 with 3 Axes>"
      ]
     },
     "metadata": {
      "needs_background": "light"
     },
     "output_type": "display_data"
    },
    {
     "data": {
      "image/png": "[encoded data removed]",
      "text/plain": [
       "<Figure size 864x576 with 3 Axes>"
      ]
     },
     "metadata": {
      "needs_background": "light"
     },
     "output_type": "display_data"
    },
    {
     "data": {
      "image/png": "[encoded data removed]",
      "text/plain": [
       "<Figure size 864x576 with 3 Axes>"
      ]
     },
     "metadata": {
      "needs_background": "light"
     },
     "output_type": "display_data"
    },
    {
     "data": {
      "image/png": "[encoded data removed]",
      "text/plain": [
       "<Figure size 864x576 with 3 Axes>"
      ]
     },
     "metadata": {
      "needs_background": "light"
     },
     "output_type": "display_data"
    },
    {
     "data": {
      "image/png": "[encoded data removed]",
      "text/plain": [
       "<Figure size 864x576 with 3 Axes>"
      ]
     },
     "metadata": {
      "needs_background": "light"
     },
     "output_type": "display_data"
    },
    {
     "data": {
      "image/png": "[encoded data removed]",
      "text/plain": [
       "<Figure size 864x576 with 3 Axes>"
      ]
     },
     "metadata": {
      "needs_background": "light"
     },
     "output_type": "display_data"
    },
    {
     "data": {
      "image/png": "[encoded data removed]",
      "text/plain": [
       "<Figure size 864x576 with 3 Axes>"
      ]
     },
     "metadata": {
      "needs_background": "light"
     },
     "output_type": "display_data"
    },
    {
     "data": {
      "image/png": "[encoded data removed]",
      "text/plain": [
       "<Figure size 864x576 with 3 Axes>"
      ]
     },
     "metadata": {
      "needs_background": "light"
     },
     "output_type": "display_data"
    }
   ],
   "source": [
    "for column in hack.columns.to_list():\n",
    "    fig, ax = plt.subplots(1,3, figsize=(12,8), sharey=True)\n",
    "    if hack[column].dtype.name in ['float64']:\n",
    "        ax[0].hist(hack[column].values)\n",
    "        ax[1].hist(synth_data_mi[column].values)\n",
    "        ax[2].hist(synth_data_k2[column].values)\n",
    "    else:\n",
    "        ax[0].barh(hack[column].value_counts().index, hack[column].value_counts().values)\n",
    "        ax[1].barh(synth_data_mi[column].value_counts().index, synth_data_mi[column].value_counts().values)\n",
    "        ax[2].barh(synth_data_k2[column].value_counts().index, synth_data_k2[column].value_counts().values)\n",
    "    ax[0].set_title(f'{column} True')\n",
    "    ax[1].set_title(f'{column} Sampled MI')\n",
    "    ax[2].set_title(f\"{column} Sampled K2\")\n",
    "    \n",
    "    plt.tight_layout()"
   ]
  },
  {
   "cell_type": "markdown",
   "id": "8d071604",
   "metadata": {},
   "source": [
    "___\n",
    "## Predict() function"
   ]
  },
  {
   "cell_type": "markdown",
   "id": "ecb7d94d",
   "metadata": {},
   "source": [
    "#### Preparartions"
   ]
  },
  {
   "cell_type": "code",
   "execution_count": 34,
   "id": "7ee20b01",
   "metadata": {},
   "outputs": [],
   "source": [
    "d = p.info\n",
    "\n",
    "bn_1 = Nets.HybridBN()\n",
    "bn_1.add_nodes(d)"
   ]
  },
  {
   "cell_type": "code",
   "execution_count": 35,
   "id": "396a3883",
   "metadata": {},
   "outputs": [],
   "source": [
    "bn_2 = Nets.HybridBN()\n",
    "bn_2.add_nodes(d)"
   ]
  },
  {
   "cell_type": "code",
   "execution_count": 36,
   "id": "2a6664a4",
   "metadata": {},
   "outputs": [
    {
     "data": {
      "application/vnd.jupyter.widget-view+json": {
       "model_id": "f00adcc5ae8d43ae8b0e39712bb04db5",
       "version_major": 2,
       "version_minor": 0
      },
      "text/plain": [
       "  0%|          | 0/1000000 [00:00<?, ?it/s]"
      ]
     },
     "metadata": {},
     "output_type": "display_data"
    }
   ],
   "source": [
    "bn_1.add_edges(discretized_data, scoring_function=('MI',))\n",
    "bn_2.add_edges(discretized_data, scoring_function=('K2',K2Score))"
   ]
  },
  {
   "cell_type": "code",
   "execution_count": 37,
   "id": "9c1795cf",
   "metadata": {},
   "outputs": [
    {
     "data": {
      "text/html": [
       "<div>\n",
       "<style scoped>\n",
       "    .dataframe tbody tr th:only-of-type {\n",
       "        vertical-align: middle;\n",
       "    }\n",
       "\n",
       "    .dataframe tbody tr th {\n",
       "        vertical-align: top;\n",
       "    }\n",
       "\n",
       "    .dataframe thead th {\n",
       "        text-align: right;\n",
       "    }\n",
       "</style>\n",
       "<table border=\"1\" class=\"dataframe\">\n",
       "  <thead>\n",
       "    <tr style=\"text-align: right;\">\n",
       "      <th></th>\n",
       "      <th>name</th>\n",
       "      <th>node_type</th>\n",
       "      <th>data_type</th>\n",
       "      <th>parents</th>\n",
       "      <th>parents_types</th>\n",
       "    </tr>\n",
       "  </thead>\n",
       "  <tbody>\n",
       "    <tr>\n",
       "      <th>0</th>\n",
       "      <td>Tectonic regime</td>\n",
       "      <td>Discrete</td>\n",
       "      <td>disc</td>\n",
       "      <td>[]</td>\n",
       "      <td>[]</td>\n",
       "    </tr>\n",
       "    <tr>\n",
       "      <th>1</th>\n",
       "      <td>Period</td>\n",
       "      <td>ConditionalLogit (LogisticRegression)</td>\n",
       "      <td>disc</td>\n",
       "      <td>[Depth, Structural setting, Lithology]</td>\n",
       "      <td>[cont, disc, disc]</td>\n",
       "    </tr>\n",
       "    <tr>\n",
       "      <th>2</th>\n",
       "      <td>Lithology</td>\n",
       "      <td>ConditionalLogit (LogisticRegression)</td>\n",
       "      <td>disc</td>\n",
       "      <td>[Netpay, Structural setting]</td>\n",
       "      <td>[cont, disc]</td>\n",
       "    </tr>\n",
       "    <tr>\n",
       "      <th>3</th>\n",
       "      <td>Structural setting</td>\n",
       "      <td>Logit (LogisticRegression)</td>\n",
       "      <td>disc</td>\n",
       "      <td>[Permeability]</td>\n",
       "      <td>[cont]</td>\n",
       "    </tr>\n",
       "    <tr>\n",
       "      <th>4</th>\n",
       "      <td>Gross</td>\n",
       "      <td>Gaussian</td>\n",
       "      <td>cont</td>\n",
       "      <td>[Porosity]</td>\n",
       "      <td>[cont]</td>\n",
       "    </tr>\n",
       "    <tr>\n",
       "      <th>5</th>\n",
       "      <td>Netpay</td>\n",
       "      <td>Gaussian</td>\n",
       "      <td>cont</td>\n",
       "      <td>[Permeability]</td>\n",
       "      <td>[cont]</td>\n",
       "    </tr>\n",
       "    <tr>\n",
       "      <th>6</th>\n",
       "      <td>Porosity</td>\n",
       "      <td>ConditionalGaussian</td>\n",
       "      <td>cont</td>\n",
       "      <td>[Tectonic regime]</td>\n",
       "      <td>[disc]</td>\n",
       "    </tr>\n",
       "    <tr>\n",
       "      <th>7</th>\n",
       "      <td>Permeability</td>\n",
       "      <td>Gaussian</td>\n",
       "      <td>cont</td>\n",
       "      <td>[Gross]</td>\n",
       "      <td>[cont]</td>\n",
       "    </tr>\n",
       "    <tr>\n",
       "      <th>8</th>\n",
       "      <td>Depth</td>\n",
       "      <td>Gaussian</td>\n",
       "      <td>cont</td>\n",
       "      <td>[Gross]</td>\n",
       "      <td>[cont]</td>\n",
       "    </tr>\n",
       "  </tbody>\n",
       "</table>\n",
       "</div>"
      ],
      "text/plain": [
       "                 name                              node_type data_type  \\\n",
       "0     Tectonic regime                               Discrete      disc   \n",
       "1              Period  ConditionalLogit (LogisticRegression)      disc   \n",
       "2           Lithology  ConditionalLogit (LogisticRegression)      disc   \n",
       "3  Structural setting             Logit (LogisticRegression)      disc   \n",
       "4               Gross                               Gaussian      cont   \n",
       "5              Netpay                               Gaussian      cont   \n",
       "6            Porosity                    ConditionalGaussian      cont   \n",
       "7        Permeability                               Gaussian      cont   \n",
       "8               Depth                               Gaussian      cont   \n",
       "\n",
       "                                  parents       parents_types  \n",
       "0                                      []                  []  \n",
       "1  [Depth, Structural setting, Lithology]  [cont, disc, disc]  \n",
       "2            [Netpay, Structural setting]        [cont, disc]  \n",
       "3                          [Permeability]              [cont]  \n",
       "4                              [Porosity]              [cont]  \n",
       "5                          [Permeability]              [cont]  \n",
       "6                       [Tectonic regime]              [disc]  \n",
       "7                                 [Gross]              [cont]  \n",
       "8                                 [Gross]              [cont]  "
      ]
     },
     "execution_count": 37,
     "metadata": {},
     "output_type": "execute_result"
    }
   ],
   "source": [
    "bn_1.get_info(as_df=True)"
   ]
  },
  {
   "cell_type": "code",
   "execution_count": 38,
   "id": "9fc5987c",
   "metadata": {},
   "outputs": [
    {
     "data": {
      "text/html": [
       "<div>\n",
       "<style scoped>\n",
       "    .dataframe tbody tr th:only-of-type {\n",
       "        vertical-align: middle;\n",
       "    }\n",
       "\n",
       "    .dataframe tbody tr th {\n",
       "        vertical-align: top;\n",
       "    }\n",
       "\n",
       "    .dataframe thead th {\n",
       "        text-align: right;\n",
       "    }\n",
       "</style>\n",
       "<table border=\"1\" class=\"dataframe\">\n",
       "  <thead>\n",
       "    <tr style=\"text-align: right;\">\n",
       "      <th></th>\n",
       "      <th>name</th>\n",
       "      <th>node_type</th>\n",
       "      <th>data_type</th>\n",
       "      <th>parents</th>\n",
       "      <th>parents_types</th>\n",
       "    </tr>\n",
       "  </thead>\n",
       "  <tbody>\n",
       "    <tr>\n",
       "      <th>0</th>\n",
       "      <td>Tectonic regime</td>\n",
       "      <td>Discrete</td>\n",
       "      <td>disc</td>\n",
       "      <td>[]</td>\n",
       "      <td>[]</td>\n",
       "    </tr>\n",
       "    <tr>\n",
       "      <th>1</th>\n",
       "      <td>Period</td>\n",
       "      <td>Discrete</td>\n",
       "      <td>disc</td>\n",
       "      <td>[Structural setting]</td>\n",
       "      <td>[disc]</td>\n",
       "    </tr>\n",
       "    <tr>\n",
       "      <th>2</th>\n",
       "      <td>Lithology</td>\n",
       "      <td>Discrete</td>\n",
       "      <td>disc</td>\n",
       "      <td>[]</td>\n",
       "      <td>[]</td>\n",
       "    </tr>\n",
       "    <tr>\n",
       "      <th>3</th>\n",
       "      <td>Structural setting</td>\n",
       "      <td>Discrete</td>\n",
       "      <td>disc</td>\n",
       "      <td>[Tectonic regime]</td>\n",
       "      <td>[disc]</td>\n",
       "    </tr>\n",
       "    <tr>\n",
       "      <th>4</th>\n",
       "      <td>Gross</td>\n",
       "      <td>ConditionalGaussian</td>\n",
       "      <td>cont</td>\n",
       "      <td>[Period, Lithology, Structural setting]</td>\n",
       "      <td>[disc, disc, disc]</td>\n",
       "    </tr>\n",
       "    <tr>\n",
       "      <th>5</th>\n",
       "      <td>Netpay</td>\n",
       "      <td>Gaussian</td>\n",
       "      <td>cont</td>\n",
       "      <td>[Gross]</td>\n",
       "      <td>[cont]</td>\n",
       "    </tr>\n",
       "    <tr>\n",
       "      <th>6</th>\n",
       "      <td>Porosity</td>\n",
       "      <td>ConditionalGaussian</td>\n",
       "      <td>cont</td>\n",
       "      <td>[Period]</td>\n",
       "      <td>[disc]</td>\n",
       "    </tr>\n",
       "    <tr>\n",
       "      <th>7</th>\n",
       "      <td>Permeability</td>\n",
       "      <td>ConditionalGaussian</td>\n",
       "      <td>cont</td>\n",
       "      <td>[Porosity, Lithology]</td>\n",
       "      <td>[cont, disc]</td>\n",
       "    </tr>\n",
       "    <tr>\n",
       "      <th>8</th>\n",
       "      <td>Depth</td>\n",
       "      <td>ConditionalGaussian</td>\n",
       "      <td>cont</td>\n",
       "      <td>[Porosity, Structural setting]</td>\n",
       "      <td>[cont, disc]</td>\n",
       "    </tr>\n",
       "  </tbody>\n",
       "</table>\n",
       "</div>"
      ],
      "text/plain": [
       "                 name            node_type data_type  \\\n",
       "0     Tectonic regime             Discrete      disc   \n",
       "1              Period             Discrete      disc   \n",
       "2           Lithology             Discrete      disc   \n",
       "3  Structural setting             Discrete      disc   \n",
       "4               Gross  ConditionalGaussian      cont   \n",
       "5              Netpay             Gaussian      cont   \n",
       "6            Porosity  ConditionalGaussian      cont   \n",
       "7        Permeability  ConditionalGaussian      cont   \n",
       "8               Depth  ConditionalGaussian      cont   \n",
       "\n",
       "                                   parents       parents_types  \n",
       "0                                       []                  []  \n",
       "1                     [Structural setting]              [disc]  \n",
       "2                                       []                  []  \n",
       "3                        [Tectonic regime]              [disc]  \n",
       "4  [Period, Lithology, Structural setting]  [disc, disc, disc]  \n",
       "5                                  [Gross]              [cont]  \n",
       "6                                 [Period]              [disc]  \n",
       "7                    [Porosity, Lithology]        [cont, disc]  \n",
       "8           [Porosity, Structural setting]        [cont, disc]  "
      ]
     },
     "execution_count": 38,
     "metadata": {},
     "output_type": "execute_result"
    }
   ],
   "source": [
    "bn_2.get_info(as_df=True)"
   ]
  },
  {
   "cell_type": "code",
   "execution_count": 39,
   "id": "838b8a23",
   "metadata": {},
   "outputs": [
    {
     "name": "stdout",
     "output_type": "stream",
     "text": [
      "CPU times: user 2.14 s, sys: 236 µs, total: 2.14 s\n",
      "Wall time: 2.15 s\n"
     ]
    }
   ],
   "source": [
    "%%time\n",
    "bn_1.fit_parameters(hack)"
   ]
  },
  {
   "cell_type": "code",
   "execution_count": 40,
   "id": "17a60d82",
   "metadata": {},
   "outputs": [
    {
     "name": "stdout",
     "output_type": "stream",
     "text": [
      "CPU times: user 4.39 s, sys: 6.78 ms, total: 4.4 s\n",
      "Wall time: 4.43 s\n"
     ]
    }
   ],
   "source": [
    "%%time\n",
    "bn_2.fit_parameters(hack)"
   ]
  },
  {
   "cell_type": "markdown",
   "id": "e213843f",
   "metadata": {},
   "source": [
    "User can use bn.predict() to get predictions according to train data. Note that predict is async function so user can set a number of threads. It is more accurate due to dealing with signs but it can take a long time. <br>\n",
    "Performance time can increase because of:\n",
    "1. Logit Nodes with big models\n",
    "2. Mixture Nodes\n",
    "3. Problems with serialization (Joblib is slower than Pickle) \n",
    "<br><br>\n",
    "For more details, check TimeComparison.ipynb.\n",
    "**Since each continuous node trains a distribution, sample value can be negative while a train variable itself doesn't.**<br>\n",
    "Predict requires a test dataset, train dataset without testing columns (nodes)."
   ]
  },
  {
   "cell_type": "code",
   "execution_count": 41,
   "id": "2143cceb",
   "metadata": {},
   "outputs": [
    {
     "data": {
      "text/html": [
       "<div>\n",
       "<style scoped>\n",
       "    .dataframe tbody tr th:only-of-type {\n",
       "        vertical-align: middle;\n",
       "    }\n",
       "\n",
       "    .dataframe tbody tr th {\n",
       "        vertical-align: top;\n",
       "    }\n",
       "\n",
       "    .dataframe thead th {\n",
       "        text-align: right;\n",
       "    }\n",
       "</style>\n",
       "<table border=\"1\" class=\"dataframe\">\n",
       "  <thead>\n",
       "    <tr style=\"text-align: right;\">\n",
       "      <th></th>\n",
       "      <th>Tectonic regime</th>\n",
       "      <th>Period</th>\n",
       "      <th>Lithology</th>\n",
       "      <th>Structural setting</th>\n",
       "      <th>Gross</th>\n",
       "      <th>Netpay</th>\n",
       "      <th>Porosity</th>\n",
       "      <th>Permeability</th>\n",
       "      <th>Depth</th>\n",
       "    </tr>\n",
       "  </thead>\n",
       "  <tbody>\n",
       "    <tr>\n",
       "      <th>0</th>\n",
       "      <td>COMPRESSION</td>\n",
       "      <td>JURASSIC</td>\n",
       "      <td>LIMESTONE</td>\n",
       "      <td>FORELAND</td>\n",
       "      <td>75.0</td>\n",
       "      <td>55.2</td>\n",
       "      <td>21.0</td>\n",
       "      <td>410.0</td>\n",
       "      <td>1815.0</td>\n",
       "    </tr>\n",
       "    <tr>\n",
       "      <th>1</th>\n",
       "      <td>EXTENSION</td>\n",
       "      <td>CRETACEOUS</td>\n",
       "      <td>SANDSTONE</td>\n",
       "      <td>RIFT</td>\n",
       "      <td>223.5</td>\n",
       "      <td>43.2</td>\n",
       "      <td>10.0</td>\n",
       "      <td>8.0</td>\n",
       "      <td>3084.6</td>\n",
       "    </tr>\n",
       "    <tr>\n",
       "      <th>2</th>\n",
       "      <td>STRIKE-SLIP</td>\n",
       "      <td>NEOGENE</td>\n",
       "      <td>THINLY-BEDDED SANDSTONE</td>\n",
       "      <td>WRENCH</td>\n",
       "      <td>34.5</td>\n",
       "      <td>19.8</td>\n",
       "      <td>22.0</td>\n",
       "      <td>200.0</td>\n",
       "      <td>2952.9</td>\n",
       "    </tr>\n",
       "    <tr>\n",
       "      <th>3</th>\n",
       "      <td>STRIKE-SLIP</td>\n",
       "      <td>NEOGENE</td>\n",
       "      <td>SANDSTONE</td>\n",
       "      <td>WRENCH</td>\n",
       "      <td>152.7</td>\n",
       "      <td>123.0</td>\n",
       "      <td>20.0</td>\n",
       "      <td>300.0</td>\n",
       "      <td>3149.7</td>\n",
       "    </tr>\n",
       "    <tr>\n",
       "      <th>4</th>\n",
       "      <td>COMPRESSION</td>\n",
       "      <td>CRETACEOUS</td>\n",
       "      <td>LIMESTONE</td>\n",
       "      <td>SALT</td>\n",
       "      <td>75.0</td>\n",
       "      <td>30.0</td>\n",
       "      <td>21.0</td>\n",
       "      <td>60.0</td>\n",
       "      <td>1486.5</td>\n",
       "    </tr>\n",
       "    <tr>\n",
       "      <th>...</th>\n",
       "      <td>...</td>\n",
       "      <td>...</td>\n",
       "      <td>...</td>\n",
       "      <td>...</td>\n",
       "      <td>...</td>\n",
       "      <td>...</td>\n",
       "      <td>...</td>\n",
       "      <td>...</td>\n",
       "      <td>...</td>\n",
       "    </tr>\n",
       "    <tr>\n",
       "      <th>507</th>\n",
       "      <td>EXTENSION</td>\n",
       "      <td>PALEOGENE</td>\n",
       "      <td>SANDSTONE</td>\n",
       "      <td>RIFT</td>\n",
       "      <td>69.0</td>\n",
       "      <td>20.7</td>\n",
       "      <td>26.7</td>\n",
       "      <td>1872.0</td>\n",
       "      <td>1615.2</td>\n",
       "    </tr>\n",
       "    <tr>\n",
       "      <th>509</th>\n",
       "      <td>EXTENSION</td>\n",
       "      <td>PALEOGENE</td>\n",
       "      <td>SANDSTONE</td>\n",
       "      <td>RIFT</td>\n",
       "      <td>49.2</td>\n",
       "      <td>18.6</td>\n",
       "      <td>23.2</td>\n",
       "      <td>121.0</td>\n",
       "      <td>1416.3</td>\n",
       "    </tr>\n",
       "    <tr>\n",
       "      <th>511</th>\n",
       "      <td>EXTENSION</td>\n",
       "      <td>MESOZOIC</td>\n",
       "      <td>VOLCANICS</td>\n",
       "      <td>RIFT</td>\n",
       "      <td>147.6</td>\n",
       "      <td>58.2</td>\n",
       "      <td>12.7</td>\n",
       "      <td>3.6</td>\n",
       "      <td>2952.9</td>\n",
       "    </tr>\n",
       "    <tr>\n",
       "      <th>512</th>\n",
       "      <td>COMPRESSION</td>\n",
       "      <td>CARBONIFEROUS</td>\n",
       "      <td>SANDSTONE</td>\n",
       "      <td>FORELAND</td>\n",
       "      <td>78.6</td>\n",
       "      <td>9.9</td>\n",
       "      <td>24.0</td>\n",
       "      <td>30.0</td>\n",
       "      <td>561.0</td>\n",
       "    </tr>\n",
       "    <tr>\n",
       "      <th>513</th>\n",
       "      <td>COMPRESSION</td>\n",
       "      <td>CARBONIFEROUS</td>\n",
       "      <td>SANDSTONE</td>\n",
       "      <td>FORELAND</td>\n",
       "      <td>38.4</td>\n",
       "      <td>13.2</td>\n",
       "      <td>26.0</td>\n",
       "      <td>1000.0</td>\n",
       "      <td>967.5</td>\n",
       "    </tr>\n",
       "  </tbody>\n",
       "</table>\n",
       "<p>442 rows × 9 columns</p>\n",
       "</div>"
      ],
      "text/plain": [
       "    Tectonic regime         Period                Lithology  \\\n",
       "0       COMPRESSION       JURASSIC                LIMESTONE   \n",
       "1         EXTENSION     CRETACEOUS                SANDSTONE   \n",
       "2       STRIKE-SLIP        NEOGENE  THINLY-BEDDED SANDSTONE   \n",
       "3       STRIKE-SLIP        NEOGENE                SANDSTONE   \n",
       "4       COMPRESSION     CRETACEOUS                LIMESTONE   \n",
       "..              ...            ...                      ...   \n",
       "507       EXTENSION      PALEOGENE                SANDSTONE   \n",
       "509       EXTENSION      PALEOGENE                SANDSTONE   \n",
       "511       EXTENSION       MESOZOIC                VOLCANICS   \n",
       "512     COMPRESSION  CARBONIFEROUS                SANDSTONE   \n",
       "513     COMPRESSION  CARBONIFEROUS                SANDSTONE   \n",
       "\n",
       "    Structural setting  Gross  Netpay  Porosity  Permeability   Depth  \n",
       "0             FORELAND   75.0    55.2      21.0         410.0  1815.0  \n",
       "1                 RIFT  223.5    43.2      10.0           8.0  3084.6  \n",
       "2               WRENCH   34.5    19.8      22.0         200.0  2952.9  \n",
       "3               WRENCH  152.7   123.0      20.0         300.0  3149.7  \n",
       "4                 SALT   75.0    30.0      21.0          60.0  1486.5  \n",
       "..                 ...    ...     ...       ...           ...     ...  \n",
       "507               RIFT   69.0    20.7      26.7        1872.0  1615.2  \n",
       "509               RIFT   49.2    18.6      23.2         121.0  1416.3  \n",
       "511               RIFT  147.6    58.2      12.7           3.6  2952.9  \n",
       "512           FORELAND   78.6     9.9      24.0          30.0   561.0  \n",
       "513           FORELAND   38.4    13.2      26.0        1000.0   967.5  \n",
       "\n",
       "[442 rows x 9 columns]"
      ]
     },
     "execution_count": 41,
     "metadata": {},
     "output_type": "execute_result"
    }
   ],
   "source": [
    "hack_filtered = hack.dropna()\n",
    "hack_filtered"
   ]
  },
  {
   "cell_type": "code",
   "execution_count": 42,
   "id": "2300a61b",
   "metadata": {},
   "outputs": [],
   "source": [
    "columns = ['Lithology', 'Structural setting', 'Porosity', 'Depth']\n",
    "validY = hack_filtered[columns]\n",
    "validX = hack_filtered.drop(columns, axis=1)"
   ]
  },
  {
   "cell_type": "code",
   "execution_count": 43,
   "id": "80204403",
   "metadata": {},
   "outputs": [
    {
     "name": "stderr",
     "output_type": "stream",
     "text": [
      "  1%|▎                                          | 3/442 [00:00<00:23, 18.60it/s]/home/nmramorov/.local/lib/python3.10/site-packages/statsmodels/compat/pandas.py:65: FutureWarning: pandas.Int64Index is deprecated and will be removed from pandas in a future version. Use pandas.Index with the appropriate dtype instead.\n",
      "  from pandas import Int64Index as NumericIndex\n",
      "/home/nmramorov/.local/lib/python3.10/site-packages/statsmodels/compat/pandas.py:65: FutureWarning: pandas.Int64Index is deprecated and will be removed from pandas in a future version. Use pandas.Index with the appropriate dtype instead.\n",
      "  from pandas import Int64Index as NumericIndex\n",
      "/home/nmramorov/.local/lib/python3.10/site-packages/statsmodels/compat/pandas.py:65: FutureWarning: pandas.Int64Index is deprecated and will be removed from pandas in a future version. Use pandas.Index with the appropriate dtype instead.\n",
      "  from pandas import Int64Index as NumericIndex\n",
      "100%|█████████████████████████████████████████| 442/442 [08:42<00:00,  1.18s/it]\n"
     ]
    },
    {
     "name": "stdout",
     "output_type": "stream",
     "text": [
      "CPU times: user 2.51 s, sys: 170 ms, total: 2.68 s\n",
      "Wall time: 8min 48s\n"
     ]
    }
   ],
   "source": [
    "%%time\n",
    "predictions_mi = bn_1.predict(test=validX, parall_count=3)"
   ]
  },
  {
   "cell_type": "code",
   "execution_count": 44,
   "id": "a4848808",
   "metadata": {},
   "outputs": [
    {
     "name": "stderr",
     "output_type": "stream",
     "text": [
      "100%|█████████████████████████████████████████| 442/442 [02:18<00:00,  3.19it/s]\n"
     ]
    },
    {
     "name": "stdout",
     "output_type": "stream",
     "text": [
      "CPU times: user 4.41 s, sys: 157 ms, total: 4.57 s\n",
      "Wall time: 2min 20s\n"
     ]
    }
   ],
   "source": [
    "%%time\n",
    "predictions_k2 = bn_2.predict(test=validX, parall_count=3)"
   ]
  },
  {
   "cell_type": "code",
   "execution_count": 45,
   "id": "e0bfea50",
   "metadata": {
    "scrolled": true
   },
   "outputs": [
    {
     "name": "stdout",
     "output_type": "stream",
     "text": [
      "Lithology                 Accuracy:  0.5610859729\n",
      "Structural setting        Accuracy:  0.3054298643\n",
      "Porosity                  MSE:  7.0712070694\n",
      "Depth                     MSE: 1072.2788504349\n"
     ]
    }
   ],
   "source": [
    "# Bn_1 Metrics\n",
    "for column in columns:\n",
    "    if bn_1.descriptor['types'][column] == 'cont':\n",
    "        print(f\"{column: <25} MSE: {round(mean_squared_error(validY[column], predictions_mi[column], squared=False), 10): >13}\")\n",
    "    else:\n",
    "        print(f\"{column: <25} Accuracy:  {round(accuracy_score(validY[column], predictions_mi[column]), 10)}\")"
   ]
  },
  {
   "cell_type": "code",
   "execution_count": 46,
   "id": "9aa5e165",
   "metadata": {},
   "outputs": [
    {
     "name": "stdout",
     "output_type": "stream",
     "text": [
      "Lithology                 Accuracy:  0.5610859729\n",
      "Structural setting        Accuracy:  0.5610859729\n",
      "Porosity                  MSE:  5.7507032665\n",
      "Depth                     MSE: 1033.2848953641\n"
     ]
    }
   ],
   "source": [
    "# Bn_1 Metrics\n",
    "for column in columns:\n",
    "    if bn_2.descriptor['types'][column] == 'cont':\n",
    "        print(f\"{column: <25} MSE: {round(mean_squared_error(validY[column], predictions_k2[column], squared=False), 10): >13}\")\n",
    "    else:\n",
    "        print(f\"{column: <25} Accuracy:  {round(accuracy_score(validY[column], predictions_k2[column]), 10)}\")"
   ]
  },
  {
   "cell_type": "code",
   "execution_count": null,
   "id": "2b6c6591",
   "metadata": {},
   "outputs": [],
   "source": []
  },
  {
   "cell_type": "code",
   "execution_count": null,
   "id": "2544288d",
   "metadata": {},
   "outputs": [],
   "source": []
  },
  {
   "cell_type": "code",
   "execution_count": null,
   "id": "07cc0ad3",
   "metadata": {},
   "outputs": [],
   "source": []
  }
 ],
 "metadata": {
  "kernelspec": {
   "display_name": "Python 3 (ipykernel)",
   "language": "python",
   "name": "python3"
  },
  "language_info": {
   "codemirror_mode": {
    "name": "ipython",
    "version": 3
   },
   "file_extension": ".py",
   "mimetype": "text/x-python",
   "name": "python",
   "nbconvert_exporter": "python",
   "pygments_lexer": "ipython3",
   "version": "3.10.2"
  }
 },
 "nbformat": 4,
 "nbformat_minor": 5
}
