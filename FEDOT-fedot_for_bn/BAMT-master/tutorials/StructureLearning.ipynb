{
 "cells": [
  {
   "cell_type": "markdown",
   "id": "54b56e3c",
   "metadata": {},
   "source": [
    "# Structure Learning"
   ]
  },
  {
   "cell_type": "markdown",
   "id": "253a348b",
   "metadata": {},
   "source": [
    "## Import modules"
   ]
  },
  {
   "cell_type": "code",
   "execution_count": 17,
   "id": "df9ed657",
   "metadata": {},
   "outputs": [
    {
     "name": "stdout",
     "output_type": "stream",
     "text": [
      "Defaulting to user installation because normal site-packages is not writeable\n",
      "Collecting bamt==0.1.202\n",
      "  Downloading BAMT-0.1.202-py3-none-any.whl (191 kB)\n",
      "\u001b[2K     \u001b[38;2;114;156;31m━━━━━━━━━━━━━━━━━━━━━━━━━━━━━━━━━━━━━━━\u001b[0m \u001b[32m191.1/191.1 KB\u001b[0m \u001b[31m1.7 MB/s\u001b[0m eta \u001b[36m0:00:00\u001b[0m MB/s\u001b[0m eta \u001b[36m0:00:01\u001b[0m\n",
      "\u001b[?25hRequirement already satisfied: scipy<2.0.0,>=1.8.0 in /home/nmramorov/.local/lib/python3.10/site-packages (from bamt==0.1.202) (1.8.0)\n",
      "Requirement already satisfied: missingno<0.6.0,>=0.5.1 in /home/nmramorov/.local/lib/python3.10/site-packages (from bamt==0.1.202) (0.5.1)\n",
      "Requirement already satisfied: pyvis<0.2.0,>=0.1.9 in /home/nmramorov/.local/lib/python3.10/site-packages (from bamt==0.1.202) (0.1.9)\n",
      "Requirement already satisfied: pomegranate==0.14.8 in /home/nmramorov/.local/lib/python3.10/site-packages (from bamt==0.1.202) (0.14.8)\n",
      "Requirement already satisfied: numpy==1.22.2 in /usr/lib/python3.10/site-packages (from bamt==0.1.202) (1.22.2)\n",
      "Requirement already satisfied: pandas==1.4.0 in /home/nmramorov/.local/lib/python3.10/site-packages (from bamt==0.1.202) (1.4.0)\n",
      "Requirement already satisfied: gmr==1.6.2 in /home/nmramorov/.local/lib/python3.10/site-packages (from bamt==0.1.202) (1.6.2)\n",
      "Requirement already satisfied: matplotlib==3.5.1 in /home/nmramorov/.local/lib/python3.10/site-packages (from bamt==0.1.202) (3.5.1)\n",
      "Requirement already satisfied: scikit-learn==1.0.2 in /home/nmramorov/.local/lib/python3.10/site-packages (from bamt==0.1.202) (1.0.2)\n",
      "Requirement already satisfied: python-dateutil>=2.7 in /usr/lib/python3.10/site-packages (from matplotlib==3.5.1->bamt==0.1.202) (2.8.2)\n",
      "Requirement already satisfied: packaging>=20.0 in /usr/lib/python3.10/site-packages (from matplotlib==3.5.1->bamt==0.1.202) (20.9)\n",
      "Requirement already satisfied: kiwisolver>=1.0.1 in /home/nmramorov/.local/lib/python3.10/site-packages (from matplotlib==3.5.1->bamt==0.1.202) (1.3.2)\n",
      "Requirement already satisfied: pyparsing>=2.2.1 in /usr/lib/python3.10/site-packages (from matplotlib==3.5.1->bamt==0.1.202) (3.0.0)\n",
      "Requirement already satisfied: fonttools>=4.22.0 in /home/nmramorov/.local/lib/python3.10/site-packages (from matplotlib==3.5.1->bamt==0.1.202) (4.29.0)\n",
      "Requirement already satisfied: cycler>=0.10 in /home/nmramorov/.local/lib/python3.10/site-packages (from matplotlib==3.5.1->bamt==0.1.202) (0.11.0)\n",
      "Requirement already satisfied: pillow>=6.2.0 in /usr/lib/python3.10/site-packages (from matplotlib==3.5.1->bamt==0.1.202) (9.0.1)\n",
      "Requirement already satisfied: pytz>=2020.1 in /usr/lib/python3.10/site-packages (from pandas==1.4.0->bamt==0.1.202) (2021.3)\n",
      "Requirement already satisfied: joblib>=0.9.0b4 in /home/nmramorov/.local/lib/python3.10/site-packages (from pomegranate==0.14.8->bamt==0.1.202) (1.1.0)\n",
      "Requirement already satisfied: networkx>=2.4 in /home/nmramorov/.local/lib/python3.10/site-packages (from pomegranate==0.14.8->bamt==0.1.202) (2.6.3)\n",
      "Requirement already satisfied: pyyaml in /usr/lib/python3.10/site-packages (from pomegranate==0.14.8->bamt==0.1.202) (6.0)\n",
      "Requirement already satisfied: threadpoolctl>=2.0.0 in /home/nmramorov/.local/lib/python3.10/site-packages (from scikit-learn==1.0.2->bamt==0.1.202) (3.0.0)\n",
      "Requirement already satisfied: seaborn in /home/nmramorov/.local/lib/python3.10/site-packages (from missingno<0.6.0,>=0.5.1->bamt==0.1.202) (0.11.2)\n",
      "Requirement already satisfied: jinja2>=2.9.6 in /usr/lib/python3.10/site-packages (from pyvis<0.2.0,>=0.1.9->bamt==0.1.202) (3.0.3)\n",
      "Requirement already satisfied: ipython>=5.3.0 in /usr/lib/python3.10/site-packages (from pyvis<0.2.0,>=0.1.9->bamt==0.1.202) (8.1.0)\n",
      "Requirement already satisfied: jsonpickle>=1.4.1 in /home/nmramorov/.local/lib/python3.10/site-packages (from pyvis<0.2.0,>=0.1.9->bamt==0.1.202) (2.1.0)\n",
      "Requirement already satisfied: pygments>=2.4.0 in /usr/lib/python3.10/site-packages (from ipython>=5.3.0->pyvis<0.2.0,>=0.1.9->bamt==0.1.202) (2.11.2)\n",
      "Requirement already satisfied: jedi>=0.16 in /usr/lib/python3.10/site-packages (from ipython>=5.3.0->pyvis<0.2.0,>=0.1.9->bamt==0.1.202) (0.18.1)\n",
      "Requirement already satisfied: setuptools>=18.5 in /usr/lib/python3.10/site-packages (from ipython>=5.3.0->pyvis<0.2.0,>=0.1.9->bamt==0.1.202) (59.3.0)\n",
      "Requirement already satisfied: matplotlib-inline in /usr/lib/python3.10/site-packages (from ipython>=5.3.0->pyvis<0.2.0,>=0.1.9->bamt==0.1.202) (0.1.3)\n",
      "Requirement already satisfied: traitlets>=5 in /usr/lib/python3.10/site-packages (from ipython>=5.3.0->pyvis<0.2.0,>=0.1.9->bamt==0.1.202) (5.1.1)\n",
      "Requirement already satisfied: prompt-toolkit!=3.0.0,!=3.0.1,<3.1.0,>=2.0.0 in /usr/lib/python3.10/site-packages (from ipython>=5.3.0->pyvis<0.2.0,>=0.1.9->bamt==0.1.202) (3.0.28)\n",
      "Requirement already satisfied: stack-data in /usr/lib/python3.10/site-packages (from ipython>=5.3.0->pyvis<0.2.0,>=0.1.9->bamt==0.1.202) (0.2.0)\n",
      "Requirement already satisfied: pexpect>4.3 in /usr/lib/python3.10/site-packages (from ipython>=5.3.0->pyvis<0.2.0,>=0.1.9->bamt==0.1.202) (4.8.0)\n",
      "Requirement already satisfied: pickleshare in /usr/lib/python3.10/site-packages (from ipython>=5.3.0->pyvis<0.2.0,>=0.1.9->bamt==0.1.202) (0.7.5)\n",
      "Requirement already satisfied: decorator in /usr/lib/python3.10/site-packages (from ipython>=5.3.0->pyvis<0.2.0,>=0.1.9->bamt==0.1.202) (5.1.1)\n",
      "Requirement already satisfied: backcall in /usr/lib/python3.10/site-packages (from ipython>=5.3.0->pyvis<0.2.0,>=0.1.9->bamt==0.1.202) (0.2.0)\n",
      "Requirement already satisfied: MarkupSafe>=2.0 in /usr/lib/python3.10/site-packages (from jinja2>=2.9.6->pyvis<0.2.0,>=0.1.9->bamt==0.1.202) (2.0.1)\n",
      "Requirement already satisfied: six>=1.5 in /usr/lib/python3.10/site-packages (from python-dateutil>=2.7->matplotlib==3.5.1->bamt==0.1.202) (1.16.0)\n",
      "Requirement already satisfied: parso<0.9.0,>=0.8.0 in /usr/lib/python3.10/site-packages (from jedi>=0.16->ipython>=5.3.0->pyvis<0.2.0,>=0.1.9->bamt==0.1.202) (0.8.2)\n",
      "Requirement already satisfied: wcwidth in /usr/lib/python3.10/site-packages (from prompt-toolkit!=3.0.0,!=3.0.1,<3.1.0,>=2.0.0->ipython>=5.3.0->pyvis<0.2.0,>=0.1.9->bamt==0.1.202) (0.2.5)\n",
      "Requirement already satisfied: executing in /usr/lib/python3.10/site-packages (from stack-data->ipython>=5.3.0->pyvis<0.2.0,>=0.1.9->bamt==0.1.202) (0.8.2)\n",
      "Requirement already satisfied: asttokens in /usr/lib/python3.10/site-packages (from stack-data->ipython>=5.3.0->pyvis<0.2.0,>=0.1.9->bamt==0.1.202) (2.0.5)\n",
      "Requirement already satisfied: pure-eval in /usr/lib/python3.10/site-packages (from stack-data->ipython>=5.3.0->pyvis<0.2.0,>=0.1.9->bamt==0.1.202) (0.2.2)\n",
      "Installing collected packages: bamt\n",
      "  Attempting uninstall: bamt\n",
      "    Found existing installation: bamt 0.1.201\n",
      "    Uninstalling bamt-0.1.201:\n",
      "      Successfully uninstalled bamt-0.1.201\n",
      "Successfully installed bamt-0.1.202\n"
     ]
    }
   ],
   "source": [
    "!pip install bamt==0.1.202"
   ]
  },
  {
   "cell_type": "code",
   "execution_count": 18,
   "id": "49a7aca5",
   "metadata": {},
   "outputs": [
    {
     "name": "stdout",
     "output_type": "stream",
     "text": [
      "CPU times: user 122 ms, sys: 16.7 ms, total: 138 ms\n",
      "Wall time: 137 ms\n"
     ]
    }
   ],
   "source": [
    "%%time\n",
    "%matplotlib inline\n",
    "import bamt.Networks as Nets\n",
    "import bamt.Preprocessors as pp\n",
    "\n",
    "import pandas as pd\n",
    "import numpy as np\n",
    "from sklearn import preprocessing\n",
    "import matplotlib.pyplot as plt"
   ]
  },
  {
   "cell_type": "markdown",
   "id": "caa781bb",
   "metadata": {},
   "source": [
    "## Preprocessing"
   ]
  },
  {
   "cell_type": "code",
   "execution_count": 19,
   "id": "2bf54179",
   "metadata": {},
   "outputs": [],
   "source": [
    "hack = pd.read_csv(r'../data/hack_processed_with_rf.csv')"
   ]
  },
  {
   "cell_type": "code",
   "execution_count": 20,
   "id": "9d92e3ef",
   "metadata": {},
   "outputs": [],
   "source": [
    "cols = ['Tectonic regime', 'Period', 'Lithology', 'Structural setting', 'Gross','Netpay','Porosity','Permeability', 'Depth']\n",
    "hack = hack[cols]"
   ]
  },
  {
   "cell_type": "code",
   "execution_count": 21,
   "id": "9fa1fd46",
   "metadata": {},
   "outputs": [],
   "source": [
    "encoder = preprocessing.LabelEncoder()\n",
    "discretizer = preprocessing.KBinsDiscretizer(n_bins=5, encode='ordinal', strategy='quantile')\n",
    "\n",
    "p = pp.Preprocessor([('encoder', encoder), ('discretizer', discretizer)])\n",
    "discretized_data, est = p.apply(hack)"
   ]
  },
  {
   "cell_type": "markdown",
   "id": "c2b24921",
   "metadata": {},
   "source": [
    "## Initializing Bayessian Network"
   ]
  },
  {
   "cell_type": "markdown",
   "id": "e3078427",
   "metadata": {},
   "source": [
    "<p> There are 3 type of Bayessian Networks - DiscreteBN, ContinuousBN, HybridBN. <br>\n",
    "Note that if you pass discrete data to Continoust BN, you get an error.<br><br>\n",
    "For ContinousBN user can choose whether use mixture nodes or not, for Hybrid user can restrict/allow using logit/mixture nodes.<p> "
   ]
  },
  {
   "cell_type": "markdown",
   "id": "8779c5e1",
   "metadata": {},
   "source": [
    "List of scoring_functions BAMT can deal with: <br>\n",
    "1. Group 1\n",
    "    - Mutual Information (MI)\n",
    "    - LL\n",
    "    - BIC\n",
    "    - AIC\n",
    "2. K2Score <br><br>\n",
    "<p> For group 1 user can pass tuple as ('MI',). For K2Score user must import K2Scorer and pass (\"K2\", K2Scorer) <p>"
   ]
  },
  {
   "cell_type": "code",
   "execution_count": 22,
   "id": "0d227a5b",
   "metadata": {},
   "outputs": [],
   "source": [
    "bn = Nets.HybridBN(has_logit=True, use_mixture=True) # init BN\n",
    "info = p.info # mapping of nodes (Dict[\"types\": Dict[node_name: type], \"signs\": Dict[node_name: sign]])"
   ]
  },
  {
   "cell_type": "markdown",
   "id": "cf5968e8",
   "metadata": {},
   "source": [
    "Structural learning contains from two parts: building nodes and building edges. <br><br>\n",
    "\n",
    "First stage: <br>\n",
    "Instance of bayessian network initialized a primary nodes inside with two types ('Discrete' and 'Gaussian') according descriptor's info<br>\n",
    "Second stage: <br>\n",
    "Instance of bayessian network rewrites nodes according their parents and conditions (parameters)"
   ]
  },
  {
   "cell_type": "code",
   "execution_count": 23,
   "id": "1050cc44",
   "metadata": {},
   "outputs": [],
   "source": [
    "bn.add_nodes(info)\n",
    "# DATA PREPROCESSED MUST BE THERE\n",
    "bn.add_edges(discretized_data, scoring_function=('MI',)) # use mutual information sf implemented in BAMT"
   ]
  },
  {
   "cell_type": "code",
   "execution_count": 24,
   "id": "febe125e",
   "metadata": {},
   "outputs": [
    {
     "data": {
      "text/html": [
       "<div>\n",
       "<style scoped>\n",
       "    .dataframe tbody tr th:only-of-type {\n",
       "        vertical-align: middle;\n",
       "    }\n",
       "\n",
       "    .dataframe tbody tr th {\n",
       "        vertical-align: top;\n",
       "    }\n",
       "\n",
       "    .dataframe thead th {\n",
       "        text-align: right;\n",
       "    }\n",
       "</style>\n",
       "<table border=\"1\" class=\"dataframe\">\n",
       "  <thead>\n",
       "    <tr style=\"text-align: right;\">\n",
       "      <th></th>\n",
       "      <th>name</th>\n",
       "      <th>node_type</th>\n",
       "      <th>data_type</th>\n",
       "      <th>parents</th>\n",
       "      <th>parents_types</th>\n",
       "    </tr>\n",
       "  </thead>\n",
       "  <tbody>\n",
       "    <tr>\n",
       "      <th>0</th>\n",
       "      <td>Tectonic regime</td>\n",
       "      <td>Discrete</td>\n",
       "      <td>disc</td>\n",
       "      <td>[]</td>\n",
       "      <td>[]</td>\n",
       "    </tr>\n",
       "    <tr>\n",
       "      <th>1</th>\n",
       "      <td>Period</td>\n",
       "      <td>ConditionalLogit (LogisticRegression)</td>\n",
       "      <td>disc</td>\n",
       "      <td>[Depth, Structural setting, Lithology]</td>\n",
       "      <td>[cont, disc, disc]</td>\n",
       "    </tr>\n",
       "    <tr>\n",
       "      <th>2</th>\n",
       "      <td>Lithology</td>\n",
       "      <td>ConditionalLogit (LogisticRegression)</td>\n",
       "      <td>disc</td>\n",
       "      <td>[Netpay, Structural setting]</td>\n",
       "      <td>[cont, disc]</td>\n",
       "    </tr>\n",
       "    <tr>\n",
       "      <th>3</th>\n",
       "      <td>Structural setting</td>\n",
       "      <td>Logit (LogisticRegression)</td>\n",
       "      <td>disc</td>\n",
       "      <td>[Permeability]</td>\n",
       "      <td>[cont]</td>\n",
       "    </tr>\n",
       "    <tr>\n",
       "      <th>4</th>\n",
       "      <td>Gross</td>\n",
       "      <td>MixtureGaussian</td>\n",
       "      <td>cont</td>\n",
       "      <td>[Porosity]</td>\n",
       "      <td>[cont]</td>\n",
       "    </tr>\n",
       "    <tr>\n",
       "      <th>5</th>\n",
       "      <td>Netpay</td>\n",
       "      <td>MixtureGaussian</td>\n",
       "      <td>cont</td>\n",
       "      <td>[Permeability]</td>\n",
       "      <td>[cont]</td>\n",
       "    </tr>\n",
       "    <tr>\n",
       "      <th>6</th>\n",
       "      <td>Porosity</td>\n",
       "      <td>ConditionalMixtureGaussian</td>\n",
       "      <td>cont</td>\n",
       "      <td>[Tectonic regime]</td>\n",
       "      <td>[disc]</td>\n",
       "    </tr>\n",
       "    <tr>\n",
       "      <th>7</th>\n",
       "      <td>Permeability</td>\n",
       "      <td>MixtureGaussian</td>\n",
       "      <td>cont</td>\n",
       "      <td>[Gross]</td>\n",
       "      <td>[cont]</td>\n",
       "    </tr>\n",
       "    <tr>\n",
       "      <th>8</th>\n",
       "      <td>Depth</td>\n",
       "      <td>MixtureGaussian</td>\n",
       "      <td>cont</td>\n",
       "      <td>[Gross]</td>\n",
       "      <td>[cont]</td>\n",
       "    </tr>\n",
       "  </tbody>\n",
       "</table>\n",
       "</div>"
      ],
      "text/plain": [
       "                 name                              node_type data_type  \\\n",
       "0     Tectonic regime                               Discrete      disc   \n",
       "1              Period  ConditionalLogit (LogisticRegression)      disc   \n",
       "2           Lithology  ConditionalLogit (LogisticRegression)      disc   \n",
       "3  Structural setting             Logit (LogisticRegression)      disc   \n",
       "4               Gross                        MixtureGaussian      cont   \n",
       "5              Netpay                        MixtureGaussian      cont   \n",
       "6            Porosity             ConditionalMixtureGaussian      cont   \n",
       "7        Permeability                        MixtureGaussian      cont   \n",
       "8               Depth                        MixtureGaussian      cont   \n",
       "\n",
       "                                  parents       parents_types  \n",
       "0                                      []                  []  \n",
       "1  [Depth, Structural setting, Lithology]  [cont, disc, disc]  \n",
       "2            [Netpay, Structural setting]        [cont, disc]  \n",
       "3                          [Permeability]              [cont]  \n",
       "4                              [Porosity]              [cont]  \n",
       "5                          [Permeability]              [cont]  \n",
       "6                       [Tectonic regime]              [disc]  \n",
       "7                                 [Gross]              [cont]  \n",
       "8                                 [Gross]              [cont]  "
      ]
     },
     "execution_count": 24,
     "metadata": {},
     "output_type": "execute_result"
    }
   ],
   "source": [
    "bn.get_info()"
   ]
  },
  {
   "cell_type": "code",
   "execution_count": 25,
   "id": "b4a2b8df",
   "metadata": {},
   "outputs": [
    {
     "name": "stdout",
     "output_type": "stream",
     "text": [
      "2022-03-04 01:52:43,570 | ERROR    | Networks.py-plot-0342 | This version allows only html format.\n"
     ]
    }
   ],
   "source": [
    "bn.plot('Test1')"
   ]
  },
  {
   "cell_type": "code",
   "execution_count": 26,
   "id": "568118ae",
   "metadata": {},
   "outputs": [
    {
     "data": {
      "text/html": [
       "\n",
       "        <iframe\n",
       "            width=\"100%\"\n",
       "            height=\"800px\"\n",
       "            src=\"visualization_result/Simple.html\"\n",
       "            frameborder=\"0\"\n",
       "            allowfullscreen\n",
       "            \n",
       "        ></iframe>\n",
       "        "
      ],
      "text/plain": [
       "<IPython.lib.display.IFrame at 0x7f0dfc776e90>"
      ]
     },
     "execution_count": 26,
     "metadata": {},
     "output_type": "execute_result"
    }
   ],
   "source": [
    "# Now let's plot graph\n",
    "bn.plot('Simple.html')"
   ]
  },
  {
   "cell_type": "markdown",
   "id": "bf1a8fec",
   "metadata": {},
   "source": [
    "## Parameters in structure learning"
   ]
  },
  {
   "cell_type": "markdown",
   "id": "bd7edee2",
   "metadata": {},
   "source": [
    "<p> There are 5 parameters user can tune: init_nodes, init_edges, white_list, remove_init_edges, bl_add. <p>"
   ]
  },
  {
   "cell_type": "markdown",
   "id": "03e6e976",
   "metadata": {},
   "source": [
    "### Init_nodes"
   ]
  },
  {
   "cell_type": "markdown",
   "id": "6ef17fb0",
   "metadata": {},
   "source": [
    "This one defines root nodes (thus they haven't parents at all)."
   ]
  },
  {
   "cell_type": "code",
   "execution_count": 27,
   "id": "fd32ef4b",
   "metadata": {},
   "outputs": [
    {
     "name": "stdout",
     "output_type": "stream",
     "text": [
      "[Tectonic regime, Period, Lithology, Structural setting, Gross, Netpay, Porosity, Permeability, Depth]\n"
     ]
    }
   ],
   "source": [
    "print(bn.nodes)"
   ]
  },
  {
   "cell_type": "code",
   "execution_count": 28,
   "id": "2741d343",
   "metadata": {},
   "outputs": [
    {
     "data": {
      "text/html": [
       "\n",
       "        <iframe\n",
       "            width=\"100%\"\n",
       "            height=\"800px\"\n",
       "            src=\"visualization_result/init_nodes.html\"\n",
       "            frameborder=\"0\"\n",
       "            allowfullscreen\n",
       "            \n",
       "        ></iframe>\n",
       "        "
      ],
      "text/plain": [
       "<IPython.lib.display.IFrame at 0x7f0dfc79f9d0>"
      ]
     },
     "execution_count": 28,
     "metadata": {},
     "output_type": "execute_result"
    }
   ],
   "source": [
    "params = {'init_nodes': ['Tectonic regime', 'Period', 'Lithology', 'Structural setting', 'Gross']}\n",
    "bn.add_edges(discretized_data, scoring_function=('MI',), params=params)\n",
    "bn.plot('init_nodes.html')"
   ]
  },
  {
   "cell_type": "markdown",
   "id": "79176ee6",
   "metadata": {},
   "source": [
    "### Init_edges"
   ]
  },
  {
   "cell_type": "markdown",
   "id": "2517044f",
   "metadata": {},
   "source": [
    "<p> This one defines edges from which learning procedure starts <p>"
   ]
  },
  {
   "cell_type": "code",
   "execution_count": 29,
   "id": "127cc72b",
   "metadata": {},
   "outputs": [
    {
     "data": {
      "text/html": [
       "\n",
       "        <iframe\n",
       "            width=\"100%\"\n",
       "            height=\"800px\"\n",
       "            src=\"visualization_result/init_edges.html\"\n",
       "            frameborder=\"0\"\n",
       "            allowfullscreen\n",
       "            \n",
       "        ></iframe>\n",
       "        "
      ],
      "text/plain": [
       "<IPython.lib.display.IFrame at 0x7f0dfc776020>"
      ]
     },
     "execution_count": 29,
     "metadata": {},
     "output_type": "execute_result"
    }
   ],
   "source": [
    "params = {'init_nodes': ['Tectonic regime', 'Period', 'Lithology', 'Structural setting', 'Gross'],\n",
    "          'init_edges':[('Period', 'Permeability'), ('Structural setting', 'Netpay'), ('Gross', 'Permeability')],}\n",
    "bn.add_edges(discretized_data, scoring_function=('MI',), params=params)\n",
    "bn.plot('init_edges.html')"
   ]
  },
  {
   "cell_type": "markdown",
   "id": "d71ee9c0",
   "metadata": {},
   "source": [
    "### white_list"
   ]
  },
  {
   "cell_type": "markdown",
   "id": "9e6520a3",
   "metadata": {},
   "source": [
    "Strictly set edges where algoritm must learn"
   ]
  },
  {
   "cell_type": "code",
   "execution_count": 30,
   "id": "f8bc1baf",
   "metadata": {},
   "outputs": [
    {
     "data": {
      "text/html": [
       "\n",
       "        <iframe\n",
       "            width=\"100%\"\n",
       "            height=\"800px\"\n",
       "            src=\"visualization_result/whihe_list.html\"\n",
       "            frameborder=\"0\"\n",
       "            allowfullscreen\n",
       "            \n",
       "        ></iframe>\n",
       "        "
      ],
      "text/plain": [
       "<IPython.lib.display.IFrame at 0x7f0dfc79c910>"
      ]
     },
     "execution_count": 30,
     "metadata": {},
     "output_type": "execute_result"
    }
   ],
   "source": [
    "params = {'init_nodes': ['Tectonic regime', 'Period', 'Lithology', 'Structural setting', 'Gross'],\n",
    "         'white_list': [('Period', 'Permeability'), ('Structural setting', 'Netpay'), ('Gross', 'Permeability')]}\n",
    "bn.add_edges(discretized_data, scoring_function=('MI',), params=params)\n",
    "bn.plot('whihe_list.html')"
   ]
  },
  {
   "cell_type": "markdown",
   "id": "247feab3",
   "metadata": {},
   "source": [
    "### bl_add"
   ]
  },
  {
   "cell_type": "markdown",
   "id": "0dfdef88",
   "metadata": {},
   "source": [
    "Restrict edges"
   ]
  },
  {
   "cell_type": "code",
   "execution_count": 31,
   "id": "738f9fae",
   "metadata": {},
   "outputs": [
    {
     "data": {
      "text/html": [
       "\n",
       "        <iframe\n",
       "            width=\"100%\"\n",
       "            height=\"800px\"\n",
       "            src=\"visualization_result/bl_add.html\"\n",
       "            frameborder=\"0\"\n",
       "            allowfullscreen\n",
       "            \n",
       "        ></iframe>\n",
       "        "
      ],
      "text/plain": [
       "<IPython.lib.display.IFrame at 0x7f0dfc7756c0>"
      ]
     },
     "execution_count": 31,
     "metadata": {},
     "output_type": "execute_result"
    }
   ],
   "source": [
    "params = {'init_nodes': ['Tectonic regime', 'Period', 'Lithology', 'Structural setting', 'Gross'],\n",
    "         'white_list': [('Period', 'Permeability'), ('Structural setting', 'Netpay'), ('Gross', 'Permeability')],\n",
    "         'bl_add':[('Structural setting', 'Netpay')]}\n",
    "bn.add_edges(discretized_data, scoring_function=('MI',), params=params)\n",
    "bn.plot('bl_add.html')"
   ]
  },
  {
   "cell_type": "markdown",
   "id": "fa56bd51",
   "metadata": {},
   "source": [
    "### Remove_init_edges"
   ]
  },
  {
   "cell_type": "markdown",
   "id": "c21c1202",
   "metadata": {},
   "source": [
    "Allow algorithm to remove edges defined by user."
   ]
  },
  {
   "cell_type": "code",
   "execution_count": 32,
   "id": "046ab206",
   "metadata": {},
   "outputs": [
    {
     "data": {
      "text/html": [
       "\n",
       "        <iframe\n",
       "            width=\"100%\"\n",
       "            height=\"800px\"\n",
       "            src=\"visualization_result/remove_init.html\"\n",
       "            frameborder=\"0\"\n",
       "            allowfullscreen\n",
       "            \n",
       "        ></iframe>\n",
       "        "
      ],
      "text/plain": [
       "<IPython.lib.display.IFrame at 0x7f0dfc79f040>"
      ]
     },
     "execution_count": 32,
     "metadata": {},
     "output_type": "execute_result"
    }
   ],
   "source": [
    "params = {'init_nodes': ['Tectonic regime', 'Period', 'Lithology', 'Structural setting', 'Gross'],\n",
    "          'init_edges':[('Period', 'Permeability'), ('Structural setting', 'Netpay'), ('Gross', 'Permeability')],\n",
    "         'remove_init_edges':True}\n",
    "bn.add_edges(discretized_data, scoring_function=('MI',), params=params)\n",
    "bn.plot('remove_init.html')"
   ]
  },
  {
   "cell_type": "code",
   "execution_count": null,
   "id": "fc67c784",
   "metadata": {},
   "outputs": [],
   "source": []
  }
 ],
 "metadata": {
  "kernelspec": {
   "display_name": "Python 3 (ipykernel)",
   "language": "python",
   "name": "python3"
  },
  "language_info": {
   "codemirror_mode": {
    "name": "ipython",
    "version": 3
   },
   "file_extension": ".py",
   "mimetype": "text/x-python",
   "name": "python",
   "nbconvert_exporter": "python",
   "pygments_lexer": "ipython3",
   "version": "3.10.2"
  }
 },
 "nbformat": 4,
 "nbformat_minor": 5
}
